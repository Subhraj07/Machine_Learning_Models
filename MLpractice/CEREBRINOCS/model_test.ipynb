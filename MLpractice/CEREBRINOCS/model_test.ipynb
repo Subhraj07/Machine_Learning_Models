{
  "nbformat": 4,
  "nbformat_minor": 0,
  "metadata": {
    "colab": {
      "name": "model_test.ipynb",
      "version": "0.3.2",
      "provenance": [],
      "collapsed_sections": [],
      "include_colab_link": true
    },
    "kernelspec": {
      "name": "python3",
      "display_name": "Python 3"
    }
  },
  "cells": [
    {
      "cell_type": "markdown",
      "metadata": {
        "id": "view-in-github",
        "colab_type": "text"
      },
      "source": [
        "<a href=\"https://colab.research.google.com/github/Subhraj07/Machine_Learning_Models/blob/master/MLpractice/CEREBRINOCS/model_test.ipynb\" target=\"_parent\"><img src=\"https://colab.research.google.com/assets/colab-badge.svg\" alt=\"Open In Colab\"/></a>"
      ]
    },
    {
      "cell_type": "code",
      "metadata": {
        "id": "Fj8gLuyuTH-o",
        "colab_type": "code",
        "colab": {}
      },
      "source": [
        "import os\n",
        "import shutil\n",
        "\n",
        "src_path = \"/content/drive/My Drive/Vehicle_Licenseplate_Detection/Datasets/train20X20\"\n",
        "dest_path = \"/content/drive/My Drive/Vehicle_Licenseplate_Detection/Datasets/Model_Data/Train\"\n",
        "\n",
        "for i in os.listdir(src_path):\n",
        "    for j in os.listdir(src_path + \"/\" + str(i)):\n",
        "        shutil.copy(src_path + \"/\" + str(i) + \"/\" + j, dest_path + \"/\" + i)\n",
        "\n",
        "# for i in os.listdir(src_path):\n",
        "#     for j in os.listdir(src_path + \"/\" + str(i)):\n",
        "#         os.remove(dest_path + \"/\" + i + \"/\" + j)"
      ],
      "execution_count": 0,
      "outputs": []
    },
    {
      "cell_type": "code",
      "metadata": {
        "id": "cvqVuaF_Xqj0",
        "colab_type": "code",
        "colab": {}
      },
      "source": [
        "from keras.models import Sequential # To initialise the nn as a sequence of layers\n",
        "from keras.layers import Convolution2D # To make the convolution layer for 2D images\n",
        "from keras.layers import MaxPooling2D # \n",
        "from keras.layers import Flatten\n",
        "from keras.layers import Dense\n",
        "from keras.layers import Dropout\n",
        "from keras.callbacks import CSVLogger\n",
        "from keras.optimizers import RMSprop"
      ],
      "execution_count": 0,
      "outputs": []
    },
    {
      "cell_type": "code",
      "metadata": {
        "id": "H4XtCxqye9z5",
        "colab_type": "code",
        "colab": {}
      },
      "source": [
        "train_data = \"/content/drive/My Drive/Vehicle_Licenseplate_Detection/Datasets/Model_Data/Train\"\n",
        "test_data = \"/content/drive/My Drive/Vehicle_Licenseplate_Detection/Datasets/Model_Data/Test\"\n",
        "callback = \"/content/drive/My Drive/Vehicle_Licenseplate_Detection/Datasets/Model_Data/epochs2.log\""
      ],
      "execution_count": 0,
      "outputs": []
    },
    {
      "cell_type": "code",
      "metadata": {
        "id": "9Z8pqmhzeqqP",
        "colab_type": "code",
        "colab": {}
      },
      "source": [
        "# Initialising the CNN\n",
        "classifier = Sequential()\n",
        "\n",
        "# Step 1 - Convolution\n",
        "classifier.add(Convolution2D(32,(3,3),input_shape = (64,64,3), activation = 'relu'))\n",
        "# Step 2 - Pooling\n",
        "classifier.add(MaxPooling2D(pool_size = (2,2)))\n",
        "\n",
        "# Step 1 - Convolution\n",
        "classifier.add(Convolution2D(32,(3,3), activation = 'relu'))\n",
        "# Step 2 - Pooling\n",
        "classifier.add(MaxPooling2D(pool_size = (2,2)))\n",
        "# Step 3 - Flattening\n",
        "classifier.add(Flatten())\n",
        "\n",
        "classifier.add(Dense(128, activation = 'relu'))\n",
        "classifier.add(Dropout((0.07)))\n",
        "classifier.add(Dense(36, activation = 'softmax'))"
      ],
      "execution_count": 0,
      "outputs": []
    },
    {
      "cell_type": "code",
      "metadata": {
        "id": "XiOJ9b3Wj7jQ",
        "colab_type": "code",
        "colab": {
          "base_uri": "https://localhost:8080/",
          "height": 87
        },
        "outputId": "a3661ea4-e701-4639-c57c-e1aa08a104d5"
      },
      "source": [
        "csv=CSVLogger(callback)\n",
        "\n",
        "# Compiling the CNN\n",
        "classifier.compile(optimizer = RMSprop(lr=0.001,rho=0.9,epsilon=1e-08,decay=0.005), loss = 'categorical_crossentropy', metrics = ['accuracy'])\n",
        "\n",
        "from keras.preprocessing.image import ImageDataGenerator\n",
        "\n",
        "train_datagen = ImageDataGenerator(rescale=1./255)\n",
        "\n",
        "test_datagen = ImageDataGenerator(rescale=1./255)\n",
        "\n",
        "train_set = train_datagen.flow_from_directory(train_data,target_size=(64, 64),batch_size=32,class_mode='categorical')\n",
        "\n",
        "test_set = test_datagen.flow_from_directory(test_data,target_size=(64, 64),batch_size=32,class_mode='categorical')\n",
        "\n",
        "classifier.fit_generator(train_set,steps_per_epoch=47605,epochs=5,validation_data=test_set,validation_steps=1292,callbacks=[csv])"
      ],
      "execution_count": 0,
      "outputs": [
        {
          "output_type": "stream",
          "text": [
            "Found 32848 images belonging to 36 classes.\n",
            "Found 8032 images belonging to 36 classes.\n",
            "Epoch 1/5\n",
            "38805/47605 [=======================>......] - ETA: 27:38 - loss: 0.1083 - acc: 0.9708"
          ],
          "name": "stdout"
        }
      ]
    },
    {
      "cell_type": "code",
      "metadata": {
        "id": "AsFvxfopkJEw",
        "colab_type": "code",
        "colab": {}
      },
      "source": [
        "classifier.save('/content/drive/My Drive/Vehicle_Licenseplate_Detection/Datasets/Model_Data/char-reg_new.h5')"
      ],
      "execution_count": 0,
      "outputs": []
    },
    {
      "cell_type": "code",
      "metadata": {
        "id": "-zGOAxaCra8q",
        "colab_type": "code",
        "colab": {}
      },
      "source": [
        "import cv2 \n",
        "import numpy as np\n",
        "img=cv2.imread('/content/drive/My Drive/Vehicle_Licenseplate_Detection/Datasets/train20X20/7/2.jpg')\n",
        "img=cv2.resize(img,(64,64))\n",
        "img=np.reshape(img,[1,64,64,3])\n",
        "classes=classifier.predict_classes(img)\n",
        "print(classes)"
      ],
      "execution_count": 0,
      "outputs": []
    },
    {
      "cell_type": "code",
      "metadata": {
        "id": "c7k_XuYYS4Yx",
        "colab_type": "code",
        "colab": {}
      },
      "source": [
        ""
      ],
      "execution_count": 0,
      "outputs": []
    }
  ]
}