{
  "nbformat": 4,
  "nbformat_minor": 0,
  "metadata": {
    "colab": {
      "name": "Copy of Document.ipynb",
      "version": "0.3.2",
      "provenance": [],
      "collapsed_sections": [],
      "include_colab_link": true
    },
    "kernelspec": {
      "name": "python3",
      "display_name": "Python 3"
    }
  },
  "cells": [
    {
      "cell_type": "markdown",
      "metadata": {
        "id": "view-in-github",
        "colab_type": "text"
      },
      "source": [
        "<a href=\"https://colab.research.google.com/github/Subhraj07/Machine_Learning_Models/blob/master/MLpractice/CEREBRINOCS/Copy_of_Document.ipynb\" target=\"_parent\"><img src=\"https://colab.research.google.com/assets/colab-badge.svg\" alt=\"Open In Colab\"/></a>"
      ]
    },
    {
      "cell_type": "markdown",
      "metadata": {
        "id": "p56l4lNW3Xsq",
        "colab_type": "text"
      },
      "source": [
        "# Problem Understanding"
      ]
    },
    {
      "cell_type": "markdown",
      "metadata": {
        "id": "QQ_o4yNt3VC_",
        "colab_type": "text"
      },
      "source": [
        "*   Vehicle license Plate recognition (VLPR) is one of the techniques used for vehicle identification purposes. \n",
        "*   The sole intention of this project is to find the most efficient way to recognize the registration information from the digital image. \n",
        "*   It can use existing closed-circuit television, road-rule enforcement cameras, or cameras specifically designed for the task.\n",
        "*   VLPR has many uses including:\n",
        "  *   Recovering stolen cars.\n",
        "  *   Identifying drivers with an open warrant for arrest.\n",
        "  *   Expediting parking by eliminating the need for human confirmation of parking passes."
      ]
    },
    {
      "cell_type": "markdown",
      "metadata": {
        "id": "Sj0F8eF84Pa6",
        "colab_type": "text"
      },
      "source": [
        "# Research"
      ]
    },
    {
      "cell_type": "markdown",
      "metadata": {
        "id": "QBShjK044d-c",
        "colab_type": "text"
      },
      "source": [
        "Problem is a complex task with many variations. Images may be taken by\n",
        "either a color, black and white or infrared camera. Furthermore, nations have different\n",
        "standards for license plates allowing different background colors or distracting patterns\n",
        "on the plate. The number of letters, numbers and spaces, their position and the font\n",
        "used are other variations differing among nations.  Some of these variations are also\n",
        "found within nations\n",
        "\n",
        "Steps. \n",
        "\n",
        "\n",
        "*   Vehicle image capture\n",
        "*   Preprocessing.\n",
        "*   Number plate extraction\n",
        "*   Character segmentation\n",
        "*   Character recognition\n",
        "\n",
        "Thus, this project uncovers the fundamental idea of various algorithms required to accomplish character recognition from the license plate during Template Matching. \n",
        "\n",
        "This feature of the algorithm mentioned above helped in achieving faster character recognition of the license plate. This process of character recognition consists of steps like Image processing, Defragmentation, Resizing and Character localization that are required to be performed on the image in order for Template Matching to be done."
      ]
    },
    {
      "cell_type": "markdown",
      "metadata": {
        "id": "GJCdjykG_J-g",
        "colab_type": "text"
      },
      "source": [
        "# Solution Implemented"
      ]
    },
    {
      "cell_type": "markdown",
      "metadata": {
        "id": "8NorDyFYEOmP",
        "colab_type": "text"
      },
      "source": [
        "**Loading Image**"
      ]
    },
    {
      "cell_type": "markdown",
      "metadata": {
        "id": "FkQ07nmhET7-",
        "colab_type": "text"
      },
      "source": [
        "**PreProcess the input image**"
      ]
    },
    {
      "cell_type": "markdown",
      "metadata": {
        "id": "L5O-H0L5EaEW",
        "colab_type": "text"
      },
      "source": [
        "**Plate detection**"
      ]
    },
    {
      "cell_type": "markdown",
      "metadata": {
        "id": "D0G1Lf2CEekc",
        "colab_type": "text"
      },
      "source": [
        "**Character Segmentation**"
      ]
    },
    {
      "cell_type": "markdown",
      "metadata": {
        "id": "ig43EdOZEjHc",
        "colab_type": "text"
      },
      "source": [
        "**Character recognition**"
      ]
    },
    {
      "cell_type": "markdown",
      "metadata": {
        "id": "HduuEiW0EltR",
        "colab_type": "text"
      },
      "source": [
        "**Prediction**"
      ]
    },
    {
      "cell_type": "markdown",
      "metadata": {
        "id": "rP7uMg8X_Wit",
        "colab_type": "text"
      },
      "source": [
        "# References"
      ]
    },
    {
      "cell_type": "markdown",
      "metadata": {
        "id": "sQJH44bf_ek9",
        "colab_type": "text"
      },
      "source": [
        "* https://blog.devcenter.co/developing-a-license-plate-recognition-system-with-machine-learning-in-python-787833569ccd\n",
        "\n",
        "* https://github.com/matthewearl/deep-anpr\n",
        "* https://github.com/AnjieZheng/Tensorflow-Number-Plate-Recognition\n",
        "* https://pdfs.semanticscholar.org/a61f/2fade92ded5368724a5dada143d57eb02c83.pdf\n",
        "* https://github.com/Deevoluation/ALPR"
      ]
    },
    {
      "cell_type": "code",
      "metadata": {
        "id": "RTsE6buH_cjV",
        "colab_type": "code",
        "colab": {}
      },
      "source": [
        ""
      ],
      "execution_count": 0,
      "outputs": []
    }
  ]
}