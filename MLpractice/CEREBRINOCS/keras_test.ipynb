{
  "nbformat": 4,
  "nbformat_minor": 0,
  "metadata": {
    "colab": {
      "name": "keras_test.ipynb",
      "version": "0.3.2",
      "provenance": [],
      "include_colab_link": true
    },
    "kernelspec": {
      "name": "python3",
      "display_name": "Python 3"
    }
  },
  "cells": [
    {
      "cell_type": "markdown",
      "metadata": {
        "id": "view-in-github",
        "colab_type": "text"
      },
      "source": [
        "<a href=\"https://colab.research.google.com/github/Subhraj07/Machine_Learning_Models/blob/master/MLpractice/CEREBRINOCS/keras_test.ipynb\" target=\"_parent\"><img src=\"https://colab.research.google.com/assets/colab-badge.svg\" alt=\"Open In Colab\"/></a>"
      ]
    },
    {
      "cell_type": "code",
      "metadata": {
        "id": "A6Gdse-xE4dn",
        "colab_type": "code",
        "colab": {
          "base_uri": "https://localhost:8080/",
          "height": 364
        },
        "outputId": "eb0fc94c-9cfe-4228-f98c-7cea15c28d33"
      },
      "source": [
        "# !pip install keras\n",
        "# !pip install tensorflow"
      ],
      "execution_count": 1,
      "outputs": [
        {
          "output_type": "stream",
          "text": [
            "Requirement already satisfied: tensorflow in /usr/local/lib/python3.6/dist-packages (1.14.0rc1)\n",
            "Requirement already satisfied: absl-py>=0.7.0 in /usr/local/lib/python3.6/dist-packages (from tensorflow) (0.7.1)\n",
            "Requirement already satisfied: gast>=0.2.0 in /usr/local/lib/python3.6/dist-packages (from tensorflow) (0.2.2)\n",
            "Requirement already satisfied: wheel>=0.26 in /usr/local/lib/python3.6/dist-packages (from tensorflow) (0.33.4)\n",
            "Requirement already satisfied: keras-preprocessing>=1.0.5 in /usr/local/lib/python3.6/dist-packages (from tensorflow) (1.1.0)\n",
            "Requirement already satisfied: keras-applications>=1.0.6 in /usr/local/lib/python3.6/dist-packages (from tensorflow) (1.0.8)\n",
            "Requirement already satisfied: tensorflow-estimator<1.15.0rc0,>=1.14.0rc0 in /usr/local/lib/python3.6/dist-packages (from tensorflow) (1.14.0rc0)\n",
            "Requirement already satisfied: astor>=0.6.0 in /usr/local/lib/python3.6/dist-packages (from tensorflow) (0.8.0)\n",
            "Requirement already satisfied: wrapt>=1.11.1 in /usr/local/lib/python3.6/dist-packages (from tensorflow) (1.11.1)\n",
            "Requirement already satisfied: grpcio>=1.8.6 in /usr/local/lib/python3.6/dist-packages (from tensorflow) (1.15.0)\n",
            "Requirement already satisfied: termcolor>=1.1.0 in /usr/local/lib/python3.6/dist-packages (from tensorflow) (1.1.0)\n",
            "Requirement already satisfied: tensorboard<1.14.0,>=1.13.0 in /usr/local/lib/python3.6/dist-packages (from tensorflow) (1.13.1)\n",
            "Requirement already satisfied: protobuf>=3.6.1 in /usr/local/lib/python3.6/dist-packages (from tensorflow) (3.7.1)\n",
            "Requirement already satisfied: numpy<2.0,>=1.14.5 in /usr/local/lib/python3.6/dist-packages (from tensorflow) (1.16.4)\n",
            "Requirement already satisfied: google-pasta>=0.1.6 in /usr/local/lib/python3.6/dist-packages (from tensorflow) (0.1.7)\n",
            "Requirement already satisfied: six>=1.10.0 in /usr/local/lib/python3.6/dist-packages (from tensorflow) (1.12.0)\n",
            "Requirement already satisfied: h5py in /usr/local/lib/python3.6/dist-packages (from keras-applications>=1.0.6->tensorflow) (2.8.0)\n",
            "Requirement already satisfied: werkzeug>=0.11.15 in /usr/local/lib/python3.6/dist-packages (from tensorboard<1.14.0,>=1.13.0->tensorflow) (0.15.4)\n",
            "Requirement already satisfied: markdown>=2.6.8 in /usr/local/lib/python3.6/dist-packages (from tensorboard<1.14.0,>=1.13.0->tensorflow) (3.1.1)\n",
            "Requirement already satisfied: setuptools in /usr/local/lib/python3.6/dist-packages (from protobuf>=3.6.1->tensorflow) (41.0.1)\n"
          ],
          "name": "stdout"
        }
      ]
    },
    {
      "cell_type": "code",
      "metadata": {
        "id": "DCU9MWBOE-Lv",
        "colab_type": "code",
        "colab": {}
      },
      "source": [
        "# datasets [https://archive.ics.uci.edu/ml/machine-learning-databases/wine-quality/]\n",
        "#https://archive.ics.uci.edu/ml/machine-learning-databases/wine-quality/winequality-red.csv\n",
        "#https://archive.ics.uci.edu/ml/machine-learning-databases/wine-quality/winequality-white.csv\n",
        "#https://archive.ics.uci.edu/ml/machine-learning-databases/wine-quality/winequality.names   \n",
        "  "
      ],
      "execution_count": 0,
      "outputs": []
    },
    {
      "cell_type": "code",
      "metadata": {
        "id": "A9sHnB6W3qyf",
        "colab_type": "code",
        "colab": {}
      },
      "source": [
        "import pandas as pd"
      ],
      "execution_count": 0,
      "outputs": []
    },
    {
      "cell_type": "code",
      "metadata": {
        "id": "AXuWPYhZ17mS",
        "colab_type": "code",
        "colab": {}
      },
      "source": [
        "red = pd.read_csv(\"https://archive.ics.uci.edu/ml/machine-learning-databases/wine-quality/winequality-red.csv\", sep=\";\")\n",
        "white = pd.read_csv(\"https://archive.ics.uci.edu/ml/machine-learning-databases/wine-quality/winequality-white.csv\", sep=\";\")"
      ],
      "execution_count": 0,
      "outputs": []
    },
    {
      "cell_type": "code",
      "metadata": {
        "id": "9YCV71WW3wNV",
        "colab_type": "code",
        "colab": {
          "base_uri": "https://localhost:8080/",
          "height": 659
        },
        "outputId": "ee8bbdfc-554a-4588-d5c3-e7ef3554f3c1"
      },
      "source": [
        "# Print info on white wine\n",
        "print(white.info())\n",
        "print(\"==========================================================\")\n",
        "# Print info on red wine\n",
        "print(red.info())"
      ],
      "execution_count": 4,
      "outputs": [
        {
          "output_type": "stream",
          "text": [
            "<class 'pandas.core.frame.DataFrame'>\n",
            "RangeIndex: 4898 entries, 0 to 4897\n",
            "Data columns (total 12 columns):\n",
            "fixed acidity           4898 non-null float64\n",
            "volatile acidity        4898 non-null float64\n",
            "citric acid             4898 non-null float64\n",
            "residual sugar          4898 non-null float64\n",
            "chlorides               4898 non-null float64\n",
            "free sulfur dioxide     4898 non-null float64\n",
            "total sulfur dioxide    4898 non-null float64\n",
            "density                 4898 non-null float64\n",
            "pH                      4898 non-null float64\n",
            "sulphates               4898 non-null float64\n",
            "alcohol                 4898 non-null float64\n",
            "quality                 4898 non-null int64\n",
            "dtypes: float64(11), int64(1)\n",
            "memory usage: 459.3 KB\n",
            "None\n",
            "==========================================================\n",
            "<class 'pandas.core.frame.DataFrame'>\n",
            "RangeIndex: 1599 entries, 0 to 1598\n",
            "Data columns (total 12 columns):\n",
            "fixed acidity           1599 non-null float64\n",
            "volatile acidity        1599 non-null float64\n",
            "citric acid             1599 non-null float64\n",
            "residual sugar          1599 non-null float64\n",
            "chlorides               1599 non-null float64\n",
            "free sulfur dioxide     1599 non-null float64\n",
            "total sulfur dioxide    1599 non-null float64\n",
            "density                 1599 non-null float64\n",
            "pH                      1599 non-null float64\n",
            "sulphates               1599 non-null float64\n",
            "alcohol                 1599 non-null float64\n",
            "quality                 1599 non-null int64\n",
            "dtypes: float64(11), int64(1)\n",
            "memory usage: 150.0 KB\n",
            "None\n"
          ],
          "name": "stdout"
        }
      ]
    },
    {
      "cell_type": "code",
      "metadata": {
        "id": "WV3Y7c9b8FsA",
        "colab_type": "code",
        "colab": {
          "base_uri": "https://localhost:8080/",
          "height": 1803
        },
        "outputId": "b70fbd46-606a-45fb-857c-e496bd70d914"
      },
      "source": [
        "# First rows of `red` \n",
        "print(red.head())\n",
        "print(\"==========================================================\")\n",
        "\n",
        "# Last rows of `white`\n",
        "print(white.tail())\n",
        "print(\"==========================================================\")\n",
        "\n",
        "# Take a sample of 5 rows of `red`\n",
        "print(red.sample(5))\n",
        "print(\"==========================================================\")\n",
        "\n",
        "# Describe `white`\n",
        "print(white.describe())\n",
        "print(\"==========================================================\")\n",
        "\n",
        "# Double check for null values in `red`\n",
        "print(pd.isnull(red))"
      ],
      "execution_count": 5,
      "outputs": [
        {
          "output_type": "stream",
          "text": [
            "   fixed acidity  volatile acidity  citric acid  ...  sulphates  alcohol  quality\n",
            "0            7.4              0.70         0.00  ...       0.56      9.4        5\n",
            "1            7.8              0.88         0.00  ...       0.68      9.8        5\n",
            "2            7.8              0.76         0.04  ...       0.65      9.8        5\n",
            "3           11.2              0.28         0.56  ...       0.58      9.8        6\n",
            "4            7.4              0.70         0.00  ...       0.56      9.4        5\n",
            "\n",
            "[5 rows x 12 columns]\n",
            "==========================================================\n",
            "      fixed acidity  volatile acidity  citric acid  ...  sulphates  alcohol  quality\n",
            "4893            6.2              0.21         0.29  ...       0.50     11.2        6\n",
            "4894            6.6              0.32         0.36  ...       0.46      9.6        5\n",
            "4895            6.5              0.24         0.19  ...       0.46      9.4        6\n",
            "4896            5.5              0.29         0.30  ...       0.38     12.8        7\n",
            "4897            6.0              0.21         0.38  ...       0.32     11.8        6\n",
            "\n",
            "[5 rows x 12 columns]\n",
            "==========================================================\n",
            "      fixed acidity  volatile acidity  citric acid  ...  sulphates  alcohol  quality\n",
            "552             9.5             0.460         0.24  ...       0.74     10.0        6\n",
            "1432            5.9             0.440         0.00  ...       0.85     11.7        6\n",
            "1569            6.2             0.510         0.14  ...       0.57     11.5        6\n",
            "1414           10.0             0.320         0.59  ...       0.78      9.6        5\n",
            "1485            7.0             0.655         0.16  ...       0.55      9.7        5\n",
            "\n",
            "[5 rows x 12 columns]\n",
            "==========================================================\n",
            "       fixed acidity  volatile acidity  ...      alcohol      quality\n",
            "count    4898.000000       4898.000000  ...  4898.000000  4898.000000\n",
            "mean        6.854788          0.278241  ...    10.514267     5.877909\n",
            "std         0.843868          0.100795  ...     1.230621     0.885639\n",
            "min         3.800000          0.080000  ...     8.000000     3.000000\n",
            "25%         6.300000          0.210000  ...     9.500000     5.000000\n",
            "50%         6.800000          0.260000  ...    10.400000     6.000000\n",
            "75%         7.300000          0.320000  ...    11.400000     6.000000\n",
            "max        14.200000          1.100000  ...    14.200000     9.000000\n",
            "\n",
            "[8 rows x 12 columns]\n",
            "==========================================================\n",
            "      fixed acidity  volatile acidity  citric acid  ...  sulphates  alcohol  quality\n",
            "0             False             False        False  ...      False    False    False\n",
            "1             False             False        False  ...      False    False    False\n",
            "2             False             False        False  ...      False    False    False\n",
            "3             False             False        False  ...      False    False    False\n",
            "4             False             False        False  ...      False    False    False\n",
            "5             False             False        False  ...      False    False    False\n",
            "6             False             False        False  ...      False    False    False\n",
            "7             False             False        False  ...      False    False    False\n",
            "8             False             False        False  ...      False    False    False\n",
            "9             False             False        False  ...      False    False    False\n",
            "10            False             False        False  ...      False    False    False\n",
            "11            False             False        False  ...      False    False    False\n",
            "12            False             False        False  ...      False    False    False\n",
            "13            False             False        False  ...      False    False    False\n",
            "14            False             False        False  ...      False    False    False\n",
            "15            False             False        False  ...      False    False    False\n",
            "16            False             False        False  ...      False    False    False\n",
            "17            False             False        False  ...      False    False    False\n",
            "18            False             False        False  ...      False    False    False\n",
            "19            False             False        False  ...      False    False    False\n",
            "20            False             False        False  ...      False    False    False\n",
            "21            False             False        False  ...      False    False    False\n",
            "22            False             False        False  ...      False    False    False\n",
            "23            False             False        False  ...      False    False    False\n",
            "24            False             False        False  ...      False    False    False\n",
            "25            False             False        False  ...      False    False    False\n",
            "26            False             False        False  ...      False    False    False\n",
            "27            False             False        False  ...      False    False    False\n",
            "28            False             False        False  ...      False    False    False\n",
            "29            False             False        False  ...      False    False    False\n",
            "...             ...               ...          ...  ...        ...      ...      ...\n",
            "1569          False             False        False  ...      False    False    False\n",
            "1570          False             False        False  ...      False    False    False\n",
            "1571          False             False        False  ...      False    False    False\n",
            "1572          False             False        False  ...      False    False    False\n",
            "1573          False             False        False  ...      False    False    False\n",
            "1574          False             False        False  ...      False    False    False\n",
            "1575          False             False        False  ...      False    False    False\n",
            "1576          False             False        False  ...      False    False    False\n",
            "1577          False             False        False  ...      False    False    False\n",
            "1578          False             False        False  ...      False    False    False\n",
            "1579          False             False        False  ...      False    False    False\n",
            "1580          False             False        False  ...      False    False    False\n",
            "1581          False             False        False  ...      False    False    False\n",
            "1582          False             False        False  ...      False    False    False\n",
            "1583          False             False        False  ...      False    False    False\n",
            "1584          False             False        False  ...      False    False    False\n",
            "1585          False             False        False  ...      False    False    False\n",
            "1586          False             False        False  ...      False    False    False\n",
            "1587          False             False        False  ...      False    False    False\n",
            "1588          False             False        False  ...      False    False    False\n",
            "1589          False             False        False  ...      False    False    False\n",
            "1590          False             False        False  ...      False    False    False\n",
            "1591          False             False        False  ...      False    False    False\n",
            "1592          False             False        False  ...      False    False    False\n",
            "1593          False             False        False  ...      False    False    False\n",
            "1594          False             False        False  ...      False    False    False\n",
            "1595          False             False        False  ...      False    False    False\n",
            "1596          False             False        False  ...      False    False    False\n",
            "1597          False             False        False  ...      False    False    False\n",
            "1598          False             False        False  ...      False    False    False\n",
            "\n",
            "[1599 rows x 12 columns]\n"
          ],
          "name": "stdout"
        }
      ]
    },
    {
      "cell_type": "code",
      "metadata": {
        "id": "Yx0syuff8rKI",
        "colab_type": "code",
        "colab": {
          "base_uri": "https://localhost:8080/",
          "height": 345
        },
        "outputId": "f80eb0c6-291c-4c01-dae7-e13868728d46"
      },
      "source": [
        "import matplotlib.pyplot as plt\n",
        "\n",
        "fig, ax = plt.subplots(1, 2)\n",
        "\n",
        "ax[0].hist(red.alcohol, 10, facecolor='red', alpha=0.5, label=\"Red wine\")\n",
        "ax[1].hist(white.alcohol, 10, facecolor='white', ec=\"black\", lw=0.5, alpha=0.5, label=\"White wine\")\n",
        "\n",
        "fig.subplots_adjust(left=0, right=1, bottom=0, top=0.5, hspace=0.05, wspace=1)\n",
        "ax[0].set_ylim([0, 1000])\n",
        "ax[0].set_xlabel(\"Alcohol in % Vol\")\n",
        "ax[0].set_ylabel(\"Frequency\")\n",
        "ax[1].set_xlabel(\"Alcohol in % Vol\")\n",
        "ax[1].set_ylabel(\"Frequency\")\n",
        "#ax[0].legend(loc='best')\n",
        "#ax[1].legend(loc='best')\n",
        "fig.suptitle(\"Distribution of Alcohol in % Vol\")\n",
        "\n",
        "plt.show()"
      ],
      "execution_count": 6,
      "outputs": [
        {
          "output_type": "display_data",
          "data": {
            "image/png": "[encoded data removed]",
            "text/plain": [
              "<Figure size 432x288 with 2 Axes>"
            ]
          },
          "metadata": {
            "tags": []
          }
        }
      ]
    },
    {
      "cell_type": "code",
      "metadata": {
        "id": "tNChVLUa-ckH",
        "colab_type": "code",
        "colab": {
          "base_uri": "https://localhost:8080/",
          "height": 52
        },
        "outputId": "04e154c5-0028-4192-8827-3fbc32716a51"
      },
      "source": [
        "import numpy as np\n",
        "print(np.histogram(red.alcohol, bins=[7,8,9,10,11,12,13,14,15]))\n",
        "print(np.histogram(white.alcohol, bins=[7,8,9,10,11,12,13,14,15]))"
      ],
      "execution_count": 7,
      "outputs": [
        {
          "output_type": "stream",
          "text": [
            "(array([  0,   7, 673, 452, 305, 133,  21,   8]), array([ 7,  8,  9, 10, 11, 12, 13, 14, 15]))\n",
            "(array([   0,  317, 1606, 1256,  906,  675,  131,    7]), array([ 7,  8,  9, 10, 11, 12, 13, 14, 15]))\n"
          ],
          "name": "stdout"
        }
      ]
    },
    {
      "cell_type": "code",
      "metadata": {
        "id": "_55oPbo4_jfw",
        "colab_type": "code",
        "colab": {
          "base_uri": "https://localhost:8080/",
          "height": 309
        },
        "outputId": "a3e877fe-f724-4119-a33b-fe54673552f9"
      },
      "source": [
        "import matplotlib.pyplot as plt\n",
        "\n",
        "fig, ax = plt.subplots(1, 2, figsize=(8, 4))\n",
        "\n",
        "ax[0].scatter(red['quality'], red[\"sulphates\"], color=\"red\")\n",
        "ax[1].scatter(white['quality'], white['sulphates'], color=\"white\", edgecolors=\"black\", lw=0.5)\n",
        "\n",
        "ax[0].set_title(\"Red Wine\")\n",
        "ax[1].set_title(\"White Wine\")\n",
        "ax[0].set_xlabel(\"Quality\")\n",
        "ax[1].set_xlabel(\"Quality\")\n",
        "ax[0].set_ylabel(\"Sulphates\")\n",
        "ax[1].set_ylabel(\"Sulphates\")\n",
        "ax[0].set_xlim([0,10])\n",
        "ax[1].set_xlim([0,10])\n",
        "ax[0].set_ylim([0,2.5])\n",
        "ax[1].set_ylim([0,2.5])\n",
        "fig.subplots_adjust(wspace=0.5)\n",
        "fig.suptitle(\"Wine Quality by Amount of Sulphates\")\n",
        "\n",
        "plt.show()"
      ],
      "execution_count": 8,
      "outputs": [
        {
          "output_type": "display_data",
          "data": {
            "image/png": "[encoded data removed]",
            "text/plain": [
              "<Figure size 576x288 with 2 Axes>"
            ]
          },
          "metadata": {
            "tags": []
          }
        }
      ]
    },
    {
      "cell_type": "code",
      "metadata": {
        "id": "-KofPQ1lA0ln",
        "colab_type": "code",
        "colab": {
          "base_uri": "https://localhost:8080/",
          "height": 533
        },
        "outputId": "9bccc492-1d23-427c-e3a5-222f837bedce"
      },
      "source": [
        "import matplotlib.pyplot as plt\n",
        "import numpy as np\n",
        "\n",
        "np.random.seed(570)\n",
        "\n",
        "redlabels = np.unique(red['quality'])\n",
        "whitelabels = np.unique(white['quality'])\n",
        "\n",
        "import matplotlib.pyplot as plt\n",
        "fig, ax = plt.subplots(1, 2, figsize=(8, 4))\n",
        "redcolors = np.random.rand(6,4)\n",
        "whitecolors = np.append(redcolors, np.random.rand(1,4), axis=0)\n",
        "\n",
        "for i in range(len(redcolors)):\n",
        "    redy = red['alcohol'][red.quality == redlabels[i]]\n",
        "    redx = red['volatile acidity'][red.quality == redlabels[i]]\n",
        "    ax[0].scatter(redx, redy, c=redcolors[i])\n",
        "for i in range(len(whitecolors)):\n",
        "    whitey = white['alcohol'][white.quality == whitelabels[i]]\n",
        "    whitex = white['volatile acidity'][white.quality == whitelabels[i]]\n",
        "    ax[1].scatter(whitex, whitey, c=whitecolors[i])\n",
        "    \n",
        "ax[0].set_title(\"Red Wine\")\n",
        "ax[1].set_title(\"White Wine\")\n",
        "ax[0].set_xlim([0,1.7])\n",
        "ax[1].set_xlim([0,1.7])\n",
        "ax[0].set_ylim([5,15.5])\n",
        "ax[1].set_ylim([5,15.5])\n",
        "ax[0].set_xlabel(\"Volatile Acidity\")\n",
        "ax[0].set_ylabel(\"Alcohol\")\n",
        "ax[1].set_xlabel(\"Volatile Acidity\")\n",
        "ax[1].set_ylabel(\"Alcohol\") \n",
        "#ax[0].legend(redlabels, loc='best', bbox_to_anchor=(1.3, 1))\n",
        "ax[1].legend(whitelabels, loc='best', bbox_to_anchor=(1.3, 1))\n",
        "#fig.suptitle(\"Alcohol - Volatile Acidity\")\n",
        "fig.subplots_adjust(top=0.85, wspace=0.7)\n",
        "\n",
        "plt.show()"
      ],
      "execution_count": 9,
      "outputs": [
        {
          "output_type": "stream",
          "text": [
            "'c' argument looks like a single numeric RGB or RGBA sequence, which should be avoided as value-mapping will have precedence in case its length matches with 'x' & 'y'.  Please use a 2-D array with a single row if you really want to specify the same RGB or RGBA value for all points.\n",
            "'c' argument looks like a single numeric RGB or RGBA sequence, which should be avoided as value-mapping will have precedence in case its length matches with 'x' & 'y'.  Please use a 2-D array with a single row if you really want to specify the same RGB or RGBA value for all points.\n",
            "'c' argument looks like a single numeric RGB or RGBA sequence, which should be avoided as value-mapping will have precedence in case its length matches with 'x' & 'y'.  Please use a 2-D array with a single row if you really want to specify the same RGB or RGBA value for all points.\n",
            "'c' argument looks like a single numeric RGB or RGBA sequence, which should be avoided as value-mapping will have precedence in case its length matches with 'x' & 'y'.  Please use a 2-D array with a single row if you really want to specify the same RGB or RGBA value for all points.\n",
            "'c' argument looks like a single numeric RGB or RGBA sequence, which should be avoided as value-mapping will have precedence in case its length matches with 'x' & 'y'.  Please use a 2-D array with a single row if you really want to specify the same RGB or RGBA value for all points.\n",
            "'c' argument looks like a single numeric RGB or RGBA sequence, which should be avoided as value-mapping will have precedence in case its length matches with 'x' & 'y'.  Please use a 2-D array with a single row if you really want to specify the same RGB or RGBA value for all points.\n",
            "'c' argument looks like a single numeric RGB or RGBA sequence, which should be avoided as value-mapping will have precedence in case its length matches with 'x' & 'y'.  Please use a 2-D array with a single row if you really want to specify the same RGB or RGBA value for all points.\n",
            "'c' argument looks like a single numeric RGB or RGBA sequence, which should be avoided as value-mapping will have precedence in case its length matches with 'x' & 'y'.  Please use a 2-D array with a single row if you really want to specify the same RGB or RGBA value for all points.\n",
            "'c' argument looks like a single numeric RGB or RGBA sequence, which should be avoided as value-mapping will have precedence in case its length matches with 'x' & 'y'.  Please use a 2-D array with a single row if you really want to specify the same RGB or RGBA value for all points.\n",
            "'c' argument looks like a single numeric RGB or RGBA sequence, which should be avoided as value-mapping will have precedence in case its length matches with 'x' & 'y'.  Please use a 2-D array with a single row if you really want to specify the same RGB or RGBA value for all points.\n",
            "'c' argument looks like a single numeric RGB or RGBA sequence, which should be avoided as value-mapping will have precedence in case its length matches with 'x' & 'y'.  Please use a 2-D array with a single row if you really want to specify the same RGB or RGBA value for all points.\n",
            "'c' argument looks like a single numeric RGB or RGBA sequence, which should be avoided as value-mapping will have precedence in case its length matches with 'x' & 'y'.  Please use a 2-D array with a single row if you really want to specify the same RGB or RGBA value for all points.\n",
            "'c' argument looks like a single numeric RGB or RGBA sequence, which should be avoided as value-mapping will have precedence in case its length matches with 'x' & 'y'.  Please use a 2-D array with a single row if you really want to specify the same RGB or RGBA value for all points.\n"
          ],
          "name": "stderr"
        },
        {
          "output_type": "display_data",
          "data": {
            "image/png": "[encoded data removed]",
            "text/plain": [
              "<Figure size 576x288 with 2 Axes>"
            ]
          },
          "metadata": {
            "tags": []
          }
        }
      ]
    },
    {
      "cell_type": "markdown",
      "metadata": {
        "id": "dMinPqKaCyir",
        "colab_type": "text"
      },
      "source": [
        "**Preprocess Data**"
      ]
    },
    {
      "cell_type": "code",
      "metadata": {
        "id": "0M2T6kfwDMOJ",
        "colab_type": "code",
        "colab": {}
      },
      "source": [
        "# Add `type` column to `red` with value 1\n",
        "red['type'] = 1\n",
        "\n",
        "# Add `type` column to `white` with value 0\n",
        "white['type'] = 0\n",
        "\n",
        "# Append `white` to `red`\n",
        "wines = red.append(white, ignore_index=True)"
      ],
      "execution_count": 0,
      "outputs": []
    },
    {
      "cell_type": "code",
      "metadata": {
        "id": "Iz1U1s_fDcFa",
        "colab_type": "code",
        "colab": {
          "base_uri": "https://localhost:8080/",
          "height": 353
        },
        "outputId": "d95437c2-3514-4da4-8215-6805e547e15f"
      },
      "source": [
        "import seaborn as sns\n",
        "corr = wines.corr()\n",
        "sns.heatmap(corr, \n",
        "            xticklabels=corr.columns.values,\n",
        "            yticklabels=corr.columns.values)\n",
        "plt.show()"
      ],
      "execution_count": 11,
      "outputs": [
        {
          "output_type": "display_data",
          "data": {
            "image/png": "[encoded data removed]",
            "text/plain": [
              "<Figure size 432x288 with 2 Axes>"
            ]
          },
          "metadata": {
            "tags": []
          }
        }
      ]
    },
    {
      "cell_type": "code",
      "metadata": {
        "id": "FYvKfGtjDeX2",
        "colab_type": "code",
        "colab": {}
      },
      "source": [
        "# Import `train_test_split` from `sklearn.model_selection`\n",
        "from sklearn.model_selection import train_test_split\n",
        "\n",
        "# Specify the data \n",
        "X=wines.iloc[:,0:11]\n",
        "\n",
        "# Specify the target labels and flatten the array\n",
        "y= np.ravel(wines.type)\n",
        "\n",
        "# Split the data up in train and test sets\n",
        "X_train, X_test, y_train, y_test = train_test_split(X, y, test_size=0.33, random_state=42)"
      ],
      "execution_count": 0,
      "outputs": []
    },
    {
      "cell_type": "code",
      "metadata": {
        "id": "h1VVbrYTF879",
        "colab_type": "code",
        "colab": {}
      },
      "source": [
        "# Import `StandardScaler` from `sklearn.preprocessing`\n",
        "from sklearn.preprocessing import StandardScaler\n",
        "\n",
        "# Define the scaler \n",
        "scaler = StandardScaler().fit(X_train)\n",
        "\n",
        "# Scale the train set\n",
        "X_train = scaler.transform(X_train)\n",
        "\n",
        "# Scale the test set\n",
        "X_test = scaler.transform(X_test)"
      ],
      "execution_count": 0,
      "outputs": []
    },
    {
      "cell_type": "code",
      "metadata": {
        "id": "HFaZutsXYNSA",
        "colab_type": "code",
        "colab": {
          "base_uri": "https://localhost:8080/",
          "height": 176
        },
        "outputId": "b0742984-52ad-4fb3-c0c7-119c85441129"
      },
      "source": [
        "# Import `Sequential` from `keras.models`\n",
        "from keras.models import Sequential\n",
        "\n",
        "# Import `Dense` from `keras.layers`\n",
        "from keras.layers import Dense\n",
        "\n",
        "# Initialize the constructor\n",
        "model = Sequential()\n",
        "\n",
        "# Add an input layer \n",
        "model.add(Dense(12, activation='relu', input_shape=(11,)))\n",
        "\n",
        "# Add one hidden layer \n",
        "model.add(Dense(8, activation='relu'))\n",
        "\n",
        "# Add an output layer \n",
        "model.add(Dense(1, activation='sigmoid'))"
      ],
      "execution_count": 14,
      "outputs": [
        {
          "output_type": "stream",
          "text": [
            "Using TensorFlow backend.\n",
            "WARNING: Logging before flag parsing goes to stderr.\n",
            "W0617 09:07:16.872511 139862663784320 deprecation_wrapper.py:119] From /usr/local/lib/python3.6/dist-packages/keras/backend/tensorflow_backend.py:74: The name tf.get_default_graph is deprecated. Please use tf.compat.v1.get_default_graph instead.\n",
            "\n",
            "W0617 09:07:16.913789 139862663784320 deprecation_wrapper.py:119] From /usr/local/lib/python3.6/dist-packages/keras/backend/tensorflow_backend.py:517: The name tf.placeholder is deprecated. Please use tf.compat.v1.placeholder instead.\n",
            "\n",
            "W0617 09:07:16.922028 139862663784320 deprecation_wrapper.py:119] From /usr/local/lib/python3.6/dist-packages/keras/backend/tensorflow_backend.py:4138: The name tf.random_uniform is deprecated. Please use tf.random.uniform instead.\n",
            "\n"
          ],
          "name": "stderr"
        }
      ]
    },
    {
      "cell_type": "code",
      "metadata": {
        "id": "p5PRPoJQrzf7",
        "colab_type": "code",
        "colab": {
          "base_uri": "https://localhost:8080/",
          "height": 1476
        },
        "outputId": "34451814-60b6-4022-fb41-0c2620ce6d6f"
      },
      "source": [
        "# Model output shape\n",
        "print(model.output_shape)\n",
        "print(\"==========================================================\")\n",
        "\n",
        "# Model summary\n",
        "print(model.summary())\n",
        "print(\"==========================================================\")\n",
        "\n",
        "# Model config\n",
        "print(model.get_config())\n",
        "print(\"==========================================================\")\n",
        "\n",
        "# List all weight tensors \n",
        "print(model.get_weights())"
      ],
      "execution_count": 16,
      "outputs": [
        {
          "output_type": "stream",
          "text": [
            "(None, 1)\n",
            "==========================================================\n",
            "_________________________________________________________________\n",
            "Layer (type)                 Output Shape              Param #   \n",
            "=================================================================\n",
            "dense_1 (Dense)              (None, 12)                144       \n",
            "_________________________________________________________________\n",
            "dense_2 (Dense)              (None, 8)                 104       \n",
            "_________________________________________________________________\n",
            "dense_3 (Dense)              (None, 1)                 9         \n",
            "=================================================================\n",
            "Total params: 257\n",
            "Trainable params: 257\n",
            "Non-trainable params: 0\n",
            "_________________________________________________________________\n",
            "None\n",
            "==========================================================\n",
            "{'name': 'sequential_1', 'layers': [{'class_name': 'Dense', 'config': {'name': 'dense_1', 'trainable': True, 'batch_input_shape': (None, 11), 'dtype': 'float32', 'units': 12, 'activation': 'relu', 'use_bias': True, 'kernel_initializer': {'class_name': 'VarianceScaling', 'config': {'scale': 1.0, 'mode': 'fan_avg', 'distribution': 'uniform', 'seed': None}}, 'bias_initializer': {'class_name': 'Zeros', 'config': {}}, 'kernel_regularizer': None, 'bias_regularizer': None, 'activity_regularizer': None, 'kernel_constraint': None, 'bias_constraint': None}}, {'class_name': 'Dense', 'config': {'name': 'dense_2', 'trainable': True, 'units': 8, 'activation': 'relu', 'use_bias': True, 'kernel_initializer': {'class_name': 'VarianceScaling', 'config': {'scale': 1.0, 'mode': 'fan_avg', 'distribution': 'uniform', 'seed': None}}, 'bias_initializer': {'class_name': 'Zeros', 'config': {}}, 'kernel_regularizer': None, 'bias_regularizer': None, 'activity_regularizer': None, 'kernel_constraint': None, 'bias_constraint': None}}, {'class_name': 'Dense', 'config': {'name': 'dense_3', 'trainable': True, 'units': 1, 'activation': 'sigmoid', 'use_bias': True, 'kernel_initializer': {'class_name': 'VarianceScaling', 'config': {'scale': 1.0, 'mode': 'fan_avg', 'distribution': 'uniform', 'seed': None}}, 'bias_initializer': {'class_name': 'Zeros', 'config': {}}, 'kernel_regularizer': None, 'bias_regularizer': None, 'activity_regularizer': None, 'kernel_constraint': None, 'bias_constraint': None}}]}\n",
            "==========================================================\n",
            "[array([[ 0.2896654 ,  0.01695609, -0.1637314 , -0.4055706 , -0.1897687 ,\n",
            "         0.05104744, -0.4755298 ,  0.04375035,  0.149944  ,  0.18585712,\n",
            "         0.04605234,  0.4203161 ],\n",
            "       [ 0.09246093, -0.00486219,  0.15394145, -0.3556453 ,  0.37075537,\n",
            "        -0.09201503,  0.22433394,  0.49172276,  0.02939814, -0.00528288,\n",
            "        -0.28554958, -0.29101855],\n",
            "       [ 0.13772285,  0.10540932, -0.16185051, -0.13713309, -0.30931568,\n",
            "         0.2913708 ,  0.22610158, -0.03789827,  0.03900152, -0.13670495,\n",
            "         0.02206749,  0.07224816],\n",
            "       [ 0.12972063, -0.46136355, -0.1358273 , -0.03706533,  0.21573442,\n",
            "         0.21198452, -0.02762926, -0.19320443,  0.24703926, -0.4224128 ,\n",
            "         0.29690397, -0.07473344],\n",
            "       [-0.06937274,  0.13956004, -0.04767117,  0.03820831,  0.27192348,\n",
            "        -0.47782913, -0.09866273, -0.42932004, -0.04532751, -0.17295876,\n",
            "        -0.3432657 ,  0.4816057 ],\n",
            "       [ 0.06270897,  0.10312521,  0.34606183, -0.12457022, -0.16116223,\n",
            "         0.03542614,  0.15460205, -0.48483256, -0.21644399,  0.17074299,\n",
            "        -0.3187413 , -0.00338858],\n",
            "       [-0.12783119, -0.04838416,  0.2083916 ,  0.33239806,  0.10142457,\n",
            "        -0.30532336, -0.38364607,  0.38588023,  0.01854885,  0.05628592,\n",
            "         0.19293177, -0.05149972],\n",
            "       [-0.43119535, -0.27155614, -0.4649146 , -0.25988257,  0.09503597,\n",
            "        -0.5009988 , -0.15289614, -0.41986507,  0.49207467,  0.00157392,\n",
            "        -0.16561732,  0.24532884],\n",
            "       [-0.17463535,  0.08331698,  0.2783636 , -0.14132953, -0.30007723,\n",
            "        -0.32280877, -0.1596224 ,  0.3233928 , -0.29511583,  0.41530758,\n",
            "        -0.45230752, -0.4677496 ],\n",
            "       [ 0.00880128,  0.33655512, -0.4528699 ,  0.43754292, -0.04207084,\n",
            "        -0.3803001 ,  0.21270508,  0.4346552 ,  0.4625556 , -0.18048412,\n",
            "        -0.29980046,  0.4583313 ],\n",
            "       [-0.3153236 , -0.26553845, -0.21347395, -0.48159593,  0.50684947,\n",
            "         0.29534268,  0.16204995,  0.30744392,  0.02605116, -0.42019787,\n",
            "        -0.2871666 ,  0.01862645]], dtype=float32), array([0., 0., 0., 0., 0., 0., 0., 0., 0., 0., 0., 0.], dtype=float32), array([[ 0.13802433, -0.1397422 ,  0.37863284, -0.15413004,  0.5285572 ,\n",
            "        -0.13628149,  0.03936303, -0.25822985],\n",
            "       [-0.4923173 , -0.3889836 , -0.35550442, -0.08421832, -0.25332853,\n",
            "        -0.01050067,  0.28014278,  0.4511721 ],\n",
            "       [ 0.12644804, -0.07388979,  0.54314303,  0.3243816 ,  0.36960304,\n",
            "         0.03181666, -0.4164722 , -0.5394448 ],\n",
            "       [ 0.4500739 ,  0.19391423, -0.21727106, -0.30200374, -0.48891065,\n",
            "         0.42746753, -0.34170333, -0.21399096],\n",
            "       [-0.53348607, -0.34708104, -0.44702923,  0.31050652, -0.529604  ,\n",
            "         0.4368825 , -0.46614015,  0.21192652],\n",
            "       [-0.5051053 ,  0.35415596, -0.3751518 , -0.2976757 , -0.4557444 ,\n",
            "        -0.53875005,  0.5048107 ,  0.12087846],\n",
            "       [ 0.49851513, -0.30494523,  0.10521847, -0.46860957,  0.2679804 ,\n",
            "        -0.04077768, -0.00542253,  0.31112713],\n",
            "       [-0.34450638, -0.16991124, -0.38176683, -0.3852437 , -0.49763155,\n",
            "         0.3795967 ,  0.42052734,  0.38327682],\n",
            "       [-0.36905417,  0.4003113 , -0.1917389 ,  0.21109205,  0.33099413,\n",
            "         0.1206221 , -0.02995032, -0.21631998],\n",
            "       [ 0.0382123 ,  0.51903856,  0.31960887, -0.01158792, -0.05701348,\n",
            "         0.49415326, -0.36317486, -0.18171829],\n",
            "       [ 0.42716026,  0.4860462 ,  0.29231024, -0.49826044,  0.38350588,\n",
            "         0.5166856 , -0.35148156,  0.00427073],\n",
            "       [ 0.14594537, -0.22531378,  0.36939985, -0.14032108, -0.48043332,\n",
            "        -0.00821644,  0.54728377, -0.17121464]], dtype=float32), array([0., 0., 0., 0., 0., 0., 0., 0.], dtype=float32), array([[ 0.7688639 ],\n",
            "       [ 0.16227716],\n",
            "       [ 0.3885014 ],\n",
            "       [-0.30456817],\n",
            "       [ 0.39023936],\n",
            "       [-0.56345725],\n",
            "       [-0.12128478],\n",
            "       [ 0.20257616]], dtype=float32), array([0.], dtype=float32)]\n",
            "==========================================================\n"
          ],
          "name": "stdout"
        }
      ]
    },
    {
      "cell_type": "markdown",
      "metadata": {
        "id": "jKsA6oDQtXeN",
        "colab_type": "text"
      },
      "source": [
        "**Compile and fit**"
      ]
    },
    {
      "cell_type": "code",
      "metadata": {
        "id": "sNJoH_S9stC-",
        "colab_type": "code",
        "colab": {
          "base_uri": "https://localhost:8080/",
          "height": 835
        },
        "outputId": "0739f825-e8ee-4065-b725-769efe161f9d"
      },
      "source": [
        "model.compile(loss='binary_crossentropy',\n",
        "              optimizer='adam',\n",
        "              metrics=['accuracy'])\n",
        "                   \n",
        "model.fit(X_train, y_train,epochs=20, batch_size=1, verbose=1)"
      ],
      "execution_count": 17,
      "outputs": [
        {
          "output_type": "stream",
          "text": [
            "W0617 09:12:53.321333 139862663784320 deprecation_wrapper.py:119] From /usr/local/lib/python3.6/dist-packages/keras/optimizers.py:790: The name tf.train.Optimizer is deprecated. Please use tf.compat.v1.train.Optimizer instead.\n",
            "\n",
            "W0617 09:12:53.356455 139862663784320 deprecation.py:323] From /usr/local/lib/python3.6/dist-packages/tensorflow/python/ops/nn_impl.py:180: add_dispatch_support.<locals>.wrapper (from tensorflow.python.ops.array_ops) is deprecated and will be removed in a future version.\n",
            "Instructions for updating:\n",
            "Use tf.where in 2.0, which has the same broadcast rule as np.where\n"
          ],
          "name": "stderr"
        },
        {
          "output_type": "stream",
          "text": [
            "Epoch 1/20\n",
            "4352/4352 [==============================] - 5s 1ms/step - loss: 0.0900 - acc: 0.9688\n",
            "Epoch 2/20\n",
            "4352/4352 [==============================] - 5s 1ms/step - loss: 0.0221 - acc: 0.9959\n",
            "Epoch 3/20\n",
            "4352/4352 [==============================] - 5s 1ms/step - loss: 0.0194 - acc: 0.9970\n",
            "Epoch 4/20\n",
            "4352/4352 [==============================] - 5s 1ms/step - loss: 0.0166 - acc: 0.9970\n",
            "Epoch 5/20\n",
            "4352/4352 [==============================] - 5s 1ms/step - loss: 0.0152 - acc: 0.9975\n",
            "Epoch 6/20\n",
            "4352/4352 [==============================] - 5s 1ms/step - loss: 0.0140 - acc: 0.9972\n",
            "Epoch 7/20\n",
            "4352/4352 [==============================] - 5s 1ms/step - loss: 0.0133 - acc: 0.9972\n",
            "Epoch 8/20\n",
            "4352/4352 [==============================] - 5s 1ms/step - loss: 0.0145 - acc: 0.9972\n",
            "Epoch 9/20\n",
            "4352/4352 [==============================] - 5s 1ms/step - loss: 0.0124 - acc: 0.9975\n",
            "Epoch 10/20\n",
            "4352/4352 [==============================] - 5s 1ms/step - loss: 0.0109 - acc: 0.9975\n",
            "Epoch 11/20\n",
            "4352/4352 [==============================] - 5s 1ms/step - loss: 0.0111 - acc: 0.9975\n",
            "Epoch 12/20\n",
            "4352/4352 [==============================] - 5s 1ms/step - loss: 0.0115 - acc: 0.9972\n",
            "Epoch 13/20\n",
            "4352/4352 [==============================] - 5s 1ms/step - loss: 0.0101 - acc: 0.9979\n",
            "Epoch 14/20\n",
            "4352/4352 [==============================] - 5s 1ms/step - loss: 0.0099 - acc: 0.9982\n",
            "Epoch 15/20\n",
            "4352/4352 [==============================] - 5s 1ms/step - loss: 0.0107 - acc: 0.9975\n",
            "Epoch 16/20\n",
            "4352/4352 [==============================] - 5s 1ms/step - loss: 0.0103 - acc: 0.9977\n",
            "Epoch 17/20\n",
            "4352/4352 [==============================] - 5s 1ms/step - loss: 0.0094 - acc: 0.9977\n",
            "Epoch 18/20\n",
            "4352/4352 [==============================] - 5s 1ms/step - loss: 0.0096 - acc: 0.9982\n",
            "Epoch 19/20\n",
            "4352/4352 [==============================] - 5s 1ms/step - loss: 0.0093 - acc: 0.9982\n",
            "Epoch 20/20\n",
            "4352/4352 [==============================] - 5s 1ms/step - loss: 0.0093 - acc: 0.9982\n"
          ],
          "name": "stdout"
        },
        {
          "output_type": "execute_result",
          "data": {
            "text/plain": [
              "<keras.callbacks.History at 0x7f3410568ba8>"
            ]
          },
          "metadata": {
            "tags": []
          },
          "execution_count": 17
        }
      ]
    },
    {
      "cell_type": "markdown",
      "metadata": {
        "id": "hQ5DexSsuKDa",
        "colab_type": "text"
      },
      "source": [
        "**Predict**"
      ]
    },
    {
      "cell_type": "code",
      "metadata": {
        "id": "-fRh2QpftekW",
        "colab_type": "code",
        "colab": {}
      },
      "source": [
        "y_pred = model.predict(X_test)"
      ],
      "execution_count": 0,
      "outputs": []
    },
    {
      "cell_type": "code",
      "metadata": {
        "id": "ljspQY10uM34",
        "colab_type": "code",
        "colab": {
          "base_uri": "https://localhost:8080/",
          "height": 52
        },
        "outputId": "29d93c0e-d04c-4c4c-e016-0f45ec28ee1e"
      },
      "source": [
        "score = model.evaluate(X_test, y_test,verbose=1)\n",
        "\n",
        "print(score)"
      ],
      "execution_count": 19,
      "outputs": [
        {
          "output_type": "stream",
          "text": [
            "2145/2145 [==============================] - 0s 37us/step\n",
            "[0.027243298779622057, 0.9944055944055944]\n"
          ],
          "name": "stdout"
        }
      ]
    },
    {
      "cell_type": "markdown",
      "metadata": {
        "id": "sUOWFVQVuzUo",
        "colab_type": "text"
      },
      "source": [
        "**Confusion Matrix**"
      ]
    },
    {
      "cell_type": "code",
      "metadata": {
        "id": "xnADPiKOuYf2",
        "colab_type": "code",
        "colab": {
          "base_uri": "https://localhost:8080/",
          "height": 191
        },
        "outputId": "40d3fea1-8f50-43e2-a584-54224116355b"
      },
      "source": [
        "# Import the modules from `sklearn.metrics`\n",
        "from sklearn.metrics import confusion_matrix, precision_score, recall_score, f1_score, cohen_kappa_score\n",
        "\n",
        "# Confusion matrix\n",
        "print(confusion_matrix(y_test, y_pred.round()))\n",
        "print(\"==========================================================\")\n",
        "\n",
        "# Precision \n",
        "print(precision_score(y_test, y_pred.round()))\n",
        "print(\"==========================================================\")\n",
        "\n",
        "# Recall\n",
        "print(recall_score(y_test, y_pred.round()))\n",
        "print(\"==========================================================\")\n",
        "\n",
        "# F1 score\n",
        "print(f1_score(y_test,y_pred.round()))\n",
        "print(\"==========================================================\")\n",
        "\n",
        "# Cohen's kappa\n",
        "print(cohen_kappa_score(y_test, y_pred.round()))"
      ],
      "execution_count": 28,
      "outputs": [
        {
          "output_type": "stream",
          "text": [
            "[[1585    3]\n",
            " [   9  548]]\n",
            "==========================================================\n",
            "0.9945553539019963\n",
            "==========================================================\n",
            "0.9838420107719928\n",
            "==========================================================\n",
            "0.9891696750902527\n",
            "==========================================================\n",
            "0.9853986111095354\n"
          ],
          "name": "stdout"
        }
      ]
    },
    {
      "cell_type": "markdown",
      "metadata": {
        "id": "xK7eSQr1wP8V",
        "colab_type": "text"
      },
      "source": [
        "**Some More Experiments**"
      ]
    },
    {
      "cell_type": "code",
      "metadata": {
        "id": "wPBfB3Jyv4G9",
        "colab_type": "code",
        "colab": {}
      },
      "source": [
        "# Isolate target labels\n",
        "y = np.ravel(wines.quality)\n",
        "\n",
        "# Isolate data\n",
        "X = wines.drop('quality', axis=1) \n",
        "\n",
        "# Split the data up in train and test sets\n",
        "X_train, X_test, y_train, y_test = train_test_split(X, y, test_size=0.33, random_state=42)"
      ],
      "execution_count": 0,
      "outputs": []
    },
    {
      "cell_type": "code",
      "metadata": {
        "id": "1peXvhUMw-ER",
        "colab_type": "code",
        "colab": {}
      },
      "source": [
        "# Scale the data with `StandardScaler`\n",
        "X = StandardScaler().fit_transform(X)"
      ],
      "execution_count": 0,
      "outputs": []
    },
    {
      "cell_type": "markdown",
      "metadata": {
        "id": "N9lWPdtDxNm0",
        "colab_type": "text"
      },
      "source": [
        "**Model Neural Network Architecture**"
      ]
    },
    {
      "cell_type": "code",
      "metadata": {
        "id": "Mpds3E6wxEH_",
        "colab_type": "code",
        "colab": {}
      },
      "source": [
        "# Import `Sequential` from `keras.models`\n",
        "from keras.models import Sequential\n",
        "\n",
        "# Import `Dense` from `keras.layers`\n",
        "from keras.layers import Dense\n",
        "\n",
        "# Initialize the model\n",
        "model = Sequential()\n",
        "\n",
        "# Add input layer \n",
        "model.add(Dense(64, input_dim=12, activation='relu'))\n",
        "    \n",
        "# Add output layer \n",
        "model.add(Dense(1))"
      ],
      "execution_count": 0,
      "outputs": []
    },
    {
      "cell_type": "markdown",
      "metadata": {
        "id": "ReqRf17TxodO",
        "colab_type": "text"
      },
      "source": [
        "**Compile The Model, Fit The Data**"
      ]
    },
    {
      "cell_type": "code",
      "metadata": {
        "id": "S3d-u8eoxat0",
        "colab_type": "code",
        "colab": {
          "base_uri": "https://localhost:8080/",
          "height": 1751
        },
        "outputId": "806f50f2-198f-4d90-e489-280d7d7d6dbe"
      },
      "source": [
        "import numpy as np\n",
        "from sklearn.model_selection import StratifiedKFold\n",
        "\n",
        "seed = 7\n",
        "np.random.seed(seed)\n",
        "\n",
        "kfold = StratifiedKFold(n_splits=5, shuffle=True, random_state=seed)\n",
        "for train, test in kfold.split(X, y):\n",
        "    model = Sequential()\n",
        "    model.add(Dense(64, input_dim=12, activation='relu'))\n",
        "    model.add(Dense(1))\n",
        "    model.compile(optimizer='rmsprop', loss='mse', metrics=['mae'])\n",
        "    model.fit(X[train], y[train], epochs=10, verbose=1)"
      ],
      "execution_count": 43,
      "outputs": [
        {
          "output_type": "stream",
          "text": [
            "Epoch 1/10\n",
            "5195/5195 [==============================] - 1s 97us/step - loss: 14.2885 - mean_absolute_error: 3.3583\n",
            "Epoch 2/10\n",
            "5195/5195 [==============================] - 0s 33us/step - loss: 1.6252 - mean_absolute_error: 0.9938\n",
            "Epoch 3/10\n",
            "5195/5195 [==============================] - 0s 34us/step - loss: 1.0016 - mean_absolute_error: 0.7740\n",
            "Epoch 4/10\n",
            "5195/5195 [==============================] - 0s 33us/step - loss: 0.7518 - mean_absolute_error: 0.6679\n",
            "Epoch 5/10\n",
            "5195/5195 [==============================] - 0s 33us/step - loss: 0.6375 - mean_absolute_error: 0.6175\n",
            "Epoch 6/10\n",
            "5195/5195 [==============================] - 0s 33us/step - loss: 0.5749 - mean_absolute_error: 0.5878\n",
            "Epoch 7/10\n",
            "5195/5195 [==============================] - 0s 33us/step - loss: 0.5416 - mean_absolute_error: 0.5722\n",
            "Epoch 8/10\n",
            "5195/5195 [==============================] - 0s 33us/step - loss: 0.5226 - mean_absolute_error: 0.5622\n",
            "Epoch 9/10\n",
            "5195/5195 [==============================] - 0s 33us/step - loss: 0.5115 - mean_absolute_error: 0.5578\n",
            "Epoch 10/10\n",
            "5195/5195 [==============================] - 0s 33us/step - loss: 0.5019 - mean_absolute_error: 0.5531\n",
            "Epoch 1/10\n",
            "5197/5197 [==============================] - 0s 70us/step - loss: 12.4809 - mean_absolute_error: 3.0995\n",
            "Epoch 2/10\n",
            "5197/5197 [==============================] - 0s 33us/step - loss: 1.4883 - mean_absolute_error: 0.9524\n",
            "Epoch 3/10\n",
            "5197/5197 [==============================] - 0s 32us/step - loss: 0.9229 - mean_absolute_error: 0.7451\n",
            "Epoch 4/10\n",
            "5197/5197 [==============================] - 0s 32us/step - loss: 0.7208 - mean_absolute_error: 0.6578\n",
            "Epoch 5/10\n",
            "5197/5197 [==============================] - 0s 33us/step - loss: 0.6228 - mean_absolute_error: 0.6112\n",
            "Epoch 6/10\n",
            "5197/5197 [==============================] - 0s 32us/step - loss: 0.5702 - mean_absolute_error: 0.5861\n",
            "Epoch 7/10\n",
            "5197/5197 [==============================] - 0s 33us/step - loss: 0.5397 - mean_absolute_error: 0.5694\n",
            "Epoch 8/10\n",
            "5197/5197 [==============================] - 0s 33us/step - loss: 0.5200 - mean_absolute_error: 0.5596\n",
            "Epoch 9/10\n",
            "5197/5197 [==============================] - 0s 32us/step - loss: 0.5095 - mean_absolute_error: 0.5534\n",
            "Epoch 10/10\n",
            "5197/5197 [==============================] - 0s 32us/step - loss: 0.4999 - mean_absolute_error: 0.5486\n",
            "Epoch 1/10\n",
            "5197/5197 [==============================] - 0s 78us/step - loss: 13.3668 - mean_absolute_error: 3.2181\n",
            "Epoch 2/10\n",
            "5197/5197 [==============================] - 0s 33us/step - loss: 1.5880 - mean_absolute_error: 0.9707\n",
            "Epoch 3/10\n",
            "5197/5197 [==============================] - 0s 32us/step - loss: 0.9824 - mean_absolute_error: 0.7553\n",
            "Epoch 4/10\n",
            "5197/5197 [==============================] - 0s 33us/step - loss: 0.7344 - mean_absolute_error: 0.6580\n",
            "Epoch 5/10\n",
            "5197/5197 [==============================] - 0s 33us/step - loss: 0.6145 - mean_absolute_error: 0.6033\n",
            "Epoch 6/10\n",
            "5197/5197 [==============================] - 0s 33us/step - loss: 0.5528 - mean_absolute_error: 0.5756\n",
            "Epoch 7/10\n",
            "5197/5197 [==============================] - 0s 32us/step - loss: 0.5231 - mean_absolute_error: 0.5603\n",
            "Epoch 8/10\n",
            "5197/5197 [==============================] - 0s 33us/step - loss: 0.5083 - mean_absolute_error: 0.5551\n",
            "Epoch 9/10\n",
            "5197/5197 [==============================] - 0s 34us/step - loss: 0.4968 - mean_absolute_error: 0.5447\n",
            "Epoch 10/10\n",
            "5197/5197 [==============================] - 0s 33us/step - loss: 0.4880 - mean_absolute_error: 0.5420\n",
            "Epoch 1/10\n",
            "5199/5199 [==============================] - 0s 81us/step - loss: 12.9538 - mean_absolute_error: 3.1445\n",
            "Epoch 2/10\n",
            "5199/5199 [==============================] - 0s 33us/step - loss: 1.5939 - mean_absolute_error: 0.9715\n",
            "Epoch 3/10\n",
            "5199/5199 [==============================] - 0s 33us/step - loss: 1.0037 - mean_absolute_error: 0.7739\n",
            "Epoch 4/10\n",
            "5199/5199 [==============================] - 0s 33us/step - loss: 0.7598 - mean_absolute_error: 0.6665\n",
            "Epoch 5/10\n",
            "5199/5199 [==============================] - 0s 33us/step - loss: 0.6333 - mean_absolute_error: 0.6078\n",
            "Epoch 6/10\n",
            "5199/5199 [==============================] - 0s 34us/step - loss: 0.5751 - mean_absolute_error: 0.5805\n",
            "Epoch 7/10\n",
            "5199/5199 [==============================] - 0s 34us/step - loss: 0.5399 - mean_absolute_error: 0.5647\n",
            "Epoch 8/10\n",
            "5199/5199 [==============================] - 0s 34us/step - loss: 0.5173 - mean_absolute_error: 0.5535\n",
            "Epoch 9/10\n",
            "5199/5199 [==============================] - 0s 33us/step - loss: 0.5046 - mean_absolute_error: 0.5503\n",
            "Epoch 10/10\n",
            "5199/5199 [==============================] - 0s 34us/step - loss: 0.4944 - mean_absolute_error: 0.5438\n",
            "Epoch 1/10\n",
            "5200/5200 [==============================] - 0s 86us/step - loss: 11.7595 - mean_absolute_error: 2.9585\n",
            "Epoch 2/10\n",
            "5200/5200 [==============================] - 0s 32us/step - loss: 1.6008 - mean_absolute_error: 0.9801\n",
            "Epoch 3/10\n",
            "5200/5200 [==============================] - 0s 33us/step - loss: 1.0167 - mean_absolute_error: 0.7774\n",
            "Epoch 4/10\n",
            "5200/5200 [==============================] - 0s 34us/step - loss: 0.7626 - mean_absolute_error: 0.6709\n",
            "Epoch 5/10\n",
            "5200/5200 [==============================] - 0s 33us/step - loss: 0.6441 - mean_absolute_error: 0.6163\n",
            "Epoch 6/10\n",
            "5200/5200 [==============================] - 0s 34us/step - loss: 0.5872 - mean_absolute_error: 0.5884\n",
            "Epoch 7/10\n",
            "5200/5200 [==============================] - 0s 32us/step - loss: 0.5505 - mean_absolute_error: 0.5729\n",
            "Epoch 8/10\n",
            "5200/5200 [==============================] - 0s 32us/step - loss: 0.5219 - mean_absolute_error: 0.5576\n",
            "Epoch 9/10\n",
            "5200/5200 [==============================] - 0s 32us/step - loss: 0.5101 - mean_absolute_error: 0.5514\n",
            "Epoch 10/10\n",
            "5200/5200 [==============================] - 0s 32us/step - loss: 0.4990 - mean_absolute_error: 0.5456\n"
          ],
          "name": "stdout"
        }
      ]
    },
    {
      "cell_type": "markdown",
      "metadata": {
        "id": "78AlKLic0P0Z",
        "colab_type": "text"
      },
      "source": [
        "**Evaluate**"
      ]
    },
    {
      "cell_type": "code",
      "metadata": {
        "id": "ezW3GfmjyhFh",
        "colab_type": "code",
        "colab": {
          "base_uri": "https://localhost:8080/",
          "height": 52
        },
        "outputId": "6ea60990-c1ed-4f9a-8e49-34977740187f"
      },
      "source": [
        "mse_value, mae_value = model.evaluate(X[test], y[test], verbose=0)\n",
        "\n",
        "print(mse_value)\n",
        "print(mae_value)"
      ],
      "execution_count": 45,
      "outputs": [
        {
          "output_type": "stream",
          "text": [
            "0.5222528025841107\n",
            "0.5618145298571796\n"
          ],
          "name": "stdout"
        }
      ]
    },
    {
      "cell_type": "code",
      "metadata": {
        "id": "C7Ccf7qF0WTN",
        "colab_type": "code",
        "colab": {
          "base_uri": "https://localhost:8080/",
          "height": 35
        },
        "outputId": "40a12094-1145-4207-e95d-d0cdef040bb8"
      },
      "source": [
        "y_pred = model.predict(X[test])\n",
        "\n",
        "from sklearn.metrics import r2_score\n",
        "\n",
        "r2_score(y[test], y_pred.round())"
      ],
      "execution_count": 49,
      "outputs": [
        {
          "output_type": "execute_result",
          "data": {
            "text/plain": [
              "0.20259158789903975"
            ]
          },
          "metadata": {
            "tags": []
          },
          "execution_count": 49
        }
      ]
    },
    {
      "cell_type": "markdown",
      "metadata": {
        "id": "I7xx-bmU02Aa",
        "colab_type": "text"
      },
      "source": [
        "**Model Fine-Tuning**"
      ]
    },
    {
      "cell_type": "code",
      "metadata": {
        "id": "t4Qf2ZBm0h67",
        "colab_type": "code",
        "colab": {}
      },
      "source": [
        "# Adding layers\n",
        "model = Sequential()\n",
        "model.add(Dense(64, input_dim=12, activation='relu'))\n",
        "model.add(Dense(64, activation='relu'))\n",
        "model.add(Dense(1))\n",
        "\n",
        "# Hidden Units\n",
        "model = Sequential()\n",
        "model.add(Dense(128, input_dim=12, activation='relu'))\n",
        "model.add(Dense(1))\n",
        "\n",
        "#Adjust learning rate 1r\n",
        "from keras.optimizers import RMSprop\n",
        "rmsprop = RMSprop(lr=0.0001)\n",
        "model.compile(optimizer=rmsprop, loss='mse', metrics=['mae'])\n",
        "\n",
        "#optimization algorithm [Stochastic Gradient Descent (SGD)]\n",
        "from keras.optimizers import SGD, RMSprop\n",
        "sgd=SGD(lr=0.1)\n",
        "model.compile(optimizer=sgd, loss='mse', metrics=['mae'])"
      ],
      "execution_count": 0,
      "outputs": []
    }
  ]
}