{
  "nbformat": 4,
  "nbformat_minor": 0,
  "metadata": {
    "colab": {
      "name": "classification_article.ipynb",
      "version": "0.3.2",
      "provenance": [],
      "include_colab_link": true
    },
    "kernelspec": {
      "name": "python3",
      "display_name": "Python 3"
    }
  },
  "cells": [
    {
      "cell_type": "markdown",
      "metadata": {
        "id": "view-in-github",
        "colab_type": "text"
      },
      "source": [
        "<a href=\"https://colab.research.google.com/github/Subhraj07/Machine_Learning_Models/blob/master/MLpractice/CEREBRINOCS/classification_article.ipynb\" target=\"_parent\"><img src=\"https://colab.research.google.com/assets/colab-badge.svg\" alt=\"Open In Colab\"/></a>"
      ]
    },
    {
      "cell_type": "code",
      "metadata": {
        "id": "_C1Y64DRPOl5",
        "colab_type": "code",
        "colab": {}
      },
      "source": [
        "# datasets [https://github.com/suraj-deshmukh/BBC-Dataset-News-Classification]\n",
        "# https://raw.githubusercontent.com/suraj-deshmukh/BBC-Dataset-News-Classification/master/dataset/dataset.csv\n",
        "# https://raw.githubusercontent.com/Subhraj07/Machine_Learning_Models/master/MLpractice/CEREBRINOCS/datasets/news_article.csv"
      ],
      "execution_count": 0,
      "outputs": []
    },
    {
      "cell_type": "code",
      "metadata": {
        "id": "g_Aj7SpOYVIr",
        "colab_type": "code",
        "colab": {}
      },
      "source": [
        "# Generate Raw data\n",
        "import os\n",
        "import pandas as pd\n",
        "from sklearn.model_selection import train_test_split\n",
        "\n",
        "data_folder = \"data/bbc-fulltext/bbc/\"\n",
        "folders = [\"business\",\"entertainment\",\"politics\",\"sport\",\"tech\"]\n",
        "\n",
        "os.chdir(data_folder)\n",
        "\n",
        "x = []\n",
        "y = []\n",
        "z = []\n",
        "\n",
        "for i in folders:\n",
        "    files = os.listdir(i)\n",
        "    for text_file in files:\n",
        "        file_path = i + \"/\" +text_file\n",
        "        print(\"reading file:\", file_path)\n",
        "        with open(file_path) as f:\n",
        "            data = f.readlines()\n",
        "        data = ' '.join(data)\n",
        "        x.append(data)\n",
        "        y.append(i)\n",
        "        z.append(text_file)\n",
        "        \n",
        "data = {'news': x, 'type': y, 'filename':z}       \n",
        "df = pd.DataFrame(data)\n",
        "print('writing csv flie ...')\n",
        "df.to_csv(\"C:/Users/212747507/Desktop/jupyter_notebooks/news_article.csv\", index=False)"
      ],
      "execution_count": 0,
      "outputs": []
    },
    {
      "cell_type": "code",
      "metadata": {
        "id": "DCU9MWBOE-Lv",
        "colab_type": "code",
        "colab": {}
      },
      "source": [
        "import pandas as pd"
      ],
      "execution_count": 0,
      "outputs": []
    },
    {
      "cell_type": "code",
      "metadata": {
        "id": "0QIizzs7PIad",
        "colab_type": "code",
        "colab": {}
      },
      "source": [
        "df = pd.read_csv(\"https://raw.githubusercontent.com/Subhraj07/Machine_Learning_Models/master/MLpractice/CEREBRINOCS/datasets/news_article.csv\", encoding='cp1252')"
      ],
      "execution_count": 0,
      "outputs": []
    },
    {
      "cell_type": "code",
      "metadata": {
        "id": "29VLU82yQZOs",
        "colab_type": "code",
        "colab": {}
      },
      "source": [
        "new = df[\"news\"].str.split(\"\\n\", n = 1, expand = True)\n",
        "df[\"title\"] = new[0]\n",
        "df[\"content\"] = new[1]\n",
        "df.drop([\"news\"], axis=1, inplace=True)\n",
        "df.rename(columns={'type': 'category'}, inplace=True)\n",
        "df['content'].replace(r'\\n',' ', regex=True, inplace=True) "
      ],
      "execution_count": 0,
      "outputs": []
    },
    {
      "cell_type": "code",
      "metadata": {
        "id": "r4b-iwr-RgKF",
        "colab_type": "code",
        "colab": {}
      },
      "source": [
        "df['category_id'] = df['category'].factorize()[0]\n",
        "category_id_df = df[['category', 'category_id']].drop_duplicates().sort_values('category_id')\n",
        "category_to_id = dict(category_id_df.values)\n",
        "id_to_category = dict(category_id_df[['category_id', 'category']].values)"
      ],
      "execution_count": 0,
      "outputs": []
    },
    {
      "cell_type": "code",
      "metadata": {
        "id": "0L_HhTnMTi90",
        "colab_type": "code",
        "colab": {
          "base_uri": "https://localhost:8080/",
          "height": 202
        },
        "outputId": "8cb09287-14e3-4001-cde8-c5c0ab8bcaa6"
      },
      "source": [
        "df.sample(5, random_state=0)"
      ],
      "execution_count": 38,
      "outputs": [
        {
          "output_type": "execute_result",
          "data": {
            "text/html": [
              "<div>\n",
              "<style scoped>\n",
              "    .dataframe tbody tr th:only-of-type {\n",
              "        vertical-align: middle;\n",
              "    }\n",
              "\n",
              "    .dataframe tbody tr th {\n",
              "        vertical-align: top;\n",
              "    }\n",
              "\n",
              "    .dataframe thead th {\n",
              "        text-align: right;\n",
              "    }\n",
              "</style>\n",
              "<table border=\"1\" class=\"dataframe\">\n",
              "  <thead>\n",
              "    <tr style=\"text-align: right;\">\n",
              "      <th></th>\n",
              "      <th>category</th>\n",
              "      <th>filename</th>\n",
              "      <th>title</th>\n",
              "      <th>content</th>\n",
              "      <th>category_id</th>\n",
              "    </tr>\n",
              "  </thead>\n",
              "  <tbody>\n",
              "    <tr>\n",
              "      <th>384</th>\n",
              "      <td>business</td>\n",
              "      <td>385.txt</td>\n",
              "      <td>Tate &amp; Lyle boss bags top award</td>\n",
              "      <td>Tate &amp; Lyle's chief executive has been name...</td>\n",
              "      <td>0</td>\n",
              "    </tr>\n",
              "    <tr>\n",
              "      <th>1983</th>\n",
              "      <td>tech</td>\n",
              "      <td>160.txt</td>\n",
              "      <td>Halo 2 sells five million copies</td>\n",
              "      <td>Microsoft is celebrating bumper sales of it...</td>\n",
              "      <td>4</td>\n",
              "    </tr>\n",
              "    <tr>\n",
              "      <th>985</th>\n",
              "      <td>politics</td>\n",
              "      <td>090.txt</td>\n",
              "      <td>MSPs hear renewed climate warning</td>\n",
              "      <td>Climate change could be completely out of c...</td>\n",
              "      <td>2</td>\n",
              "    </tr>\n",
              "    <tr>\n",
              "      <th>1386</th>\n",
              "      <td>sport</td>\n",
              "      <td>074.txt</td>\n",
              "      <td>Pavey focuses on indoor success</td>\n",
              "      <td>Jo Pavey will miss January's View From Grea...</td>\n",
              "      <td>3</td>\n",
              "    </tr>\n",
              "    <tr>\n",
              "      <th>1294</th>\n",
              "      <td>politics</td>\n",
              "      <td>399.txt</td>\n",
              "      <td>Tories reject rethink on axed MP</td>\n",
              "      <td>Sacked MP Howard Flight's local Conservativ...</td>\n",
              "      <td>2</td>\n",
              "    </tr>\n",
              "  </tbody>\n",
              "</table>\n",
              "</div>"
            ],
            "text/plain": [
              "      category  ... category_id\n",
              "384   business  ...           0\n",
              "1983      tech  ...           4\n",
              "985   politics  ...           2\n",
              "1386     sport  ...           3\n",
              "1294  politics  ...           2\n",
              "\n",
              "[5 rows x 5 columns]"
            ]
          },
          "metadata": {
            "tags": []
          },
          "execution_count": 38
        }
      ]
    },
    {
      "cell_type": "code",
      "metadata": {
        "id": "_YeTa1E1TkKp",
        "colab_type": "code",
        "colab": {
          "base_uri": "https://localhost:8080/",
          "height": 363
        },
        "outputId": "f02b5770-0e50-4feb-a46d-ed73b3da5dd7"
      },
      "source": [
        "df.groupby('category').filename.count().plot.bar(ylim=0)"
      ],
      "execution_count": 39,
      "outputs": [
        {
          "output_type": "execute_result",
          "data": {
            "text/plain": [
              "<matplotlib.axes._subplots.AxesSubplot at 0x7f446f7d3160>"
            ]
          },
          "metadata": {
            "tags": []
          },
          "execution_count": 39
        },
        {
          "output_type": "display_data",
          "data": {
            "image/png": "[encoded data removed]",
            "text/plain": [
              "<Figure size 432x288 with 1 Axes>"
            ]
          },
          "metadata": {
            "tags": []
          }
        }
      ]
    },
    {
      "cell_type": "code",
      "metadata": {
        "id": "x6IZNP2sT5sT",
        "colab_type": "code",
        "colab": {}
      },
      "source": [
        ""
      ],
      "execution_count": 0,
      "outputs": []
    }
  ]
}