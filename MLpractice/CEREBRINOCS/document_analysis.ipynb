{
  "nbformat": 4,
  "nbformat_minor": 0,
  "metadata": {
    "colab": {
      "name": "document_analysis.ipynb",
      "version": "0.3.2",
      "provenance": [],
      "include_colab_link": true
    },
    "kernelspec": {
      "name": "python3",
      "display_name": "Python 3"
    }
  },
  "cells": [
    {
      "cell_type": "markdown",
      "metadata": {
        "id": "view-in-github",
        "colab_type": "text"
      },
      "source": [
        "<a href=\"https://colab.research.google.com/github/Subhraj07/Machine_Learning_Models/blob/master/MLpractice/CEREBRINOCS/document_analysis.ipynb\" target=\"_parent\"><img src=\"https://colab.research.google.com/assets/colab-badge.svg\" alt=\"Open In Colab\"/></a>"
      ]
    },
    {
      "cell_type": "code",
      "metadata": {
        "id": "mV5qvrbWIBvg",
        "colab_type": "code",
        "colab": {}
      },
      "source": [
        ""
      ],
      "execution_count": 0,
      "outputs": []
    },
    {
      "cell_type": "code",
      "metadata": {
        "id": "xmicH5mqIBsK",
        "colab_type": "code",
        "colab": {
          "base_uri": "https://localhost:8080/",
          "height": 1000
        },
        "outputId": "552aa0be-fa5b-45f8-a692-ec9b3e53675a"
      },
      "source": [
        "!sudo apt-get install libqtgui4 libqt4-test"
      ],
      "execution_count": 58,
      "outputs": [
        {
          "output_type": "stream",
          "text": [
            "\rReading package lists... 0%\r\rReading package lists... 0%\r\rReading package lists... 0%\r\rReading package lists... 7%\r\rReading package lists... 7%\r\rReading package lists... 7%\r\rReading package lists... 7%\r\rReading package lists... 64%\r\rReading package lists... 68%\r\rReading package lists... 68%\r\rReading package lists... 69%\r\rReading package lists... 69%\r\rReading package lists... 75%\r\rReading package lists... 75%\r\rReading package lists... 75%\r\rReading package lists... 75%\r\rReading package lists... 84%\r\rReading package lists... 84%\r\rReading package lists... 84%\r\rReading package lists... 84%\r\rReading package lists... 84%\r\rReading package lists... 84%\r\rReading package lists... 84%\r\rReading package lists... 84%\r\rReading package lists... 88%\r\rReading package lists... 88%\r\rReading package lists... 88%\r\rReading package lists... 88%\r\rReading package lists... 93%\r\rReading package lists... 93%\r\rReading package lists... 93%\r\rReading package lists... 93%\r\rReading package lists... 94%\r\rReading package lists... 94%\r\rReading package lists... 94%\r\rReading package lists... 94%\r\rReading package lists... 95%\r\rReading package lists... 95%\r\rReading package lists... 98%\r\rReading package lists... 98%\r\rReading package lists... 98%\r\rReading package lists... 98%\r\rReading package lists... Done\r\n",
            "\rBuilding dependency tree... 0%\r\rBuilding dependency tree... 0%\r\rBuilding dependency tree... 50%\r\rBuilding dependency tree... 50%\r\rBuilding dependency tree       \r\n",
            "Reading state information... Done\n",
            "The following package was automatically installed and is no longer required:\n",
            "  libnvidia-common-410\n",
            "Use 'sudo apt autoremove' to remove it.\n",
            "The following additional packages will be installed:\n",
            "  libaudio2 libmng2 libqt4-dbus libqt4-declarative libqt4-network\n",
            "  libqt4-script libqt4-sql libqt4-sql-mysql libqt4-xml libqt4-xmlpatterns\n",
            "  libqtcore4 libqtdbus4 qdbus qt-at-spi qtcore4-l10n\n",
            "Suggested packages:\n",
            "  nas libqt4-declarative-folderlistmodel libqt4-declarative-gestures\n",
            "  libqt4-declarative-particles libqt4-declarative-shaders qt4-qmlviewer\n",
            "  libqt4-dev libicu55 qt4-qtconfig\n",
            "The following NEW packages will be installed:\n",
            "  libaudio2 libmng2 libqt4-dbus libqt4-declarative libqt4-network\n",
            "  libqt4-script libqt4-sql libqt4-sql-mysql libqt4-test libqt4-xml\n",
            "  libqt4-xmlpatterns libqtcore4 libqtdbus4 libqtgui4 qdbus qt-at-spi\n",
            "  qtcore4-l10n\n",
            "0 upgraded, 17 newly installed, 0 to remove and 4 not upgraded.\n",
            "Need to get 10.6 MB of archives.\n",
            "After this operation, 40.8 MB of additional disk space will be used.\n",
            "Get:1 http://archive.ubuntu.com/ubuntu bionic/universe amd64 libmng2 amd64 2.0.2-0ubuntu3 [169 kB]\n",
            "Get:2 http://archive.ubuntu.com/ubuntu bionic/main amd64 libaudio2 amd64 1.9.4-6 [50.3 kB]\n",
            "Get:3 http://archive.ubuntu.com/ubuntu bionic/universe amd64 qtcore4-l10n all 4:4.8.7+dfsg-7ubuntu1 [617 kB]\n",
            "Get:4 http://archive.ubuntu.com/ubuntu bionic/universe amd64 libqtcore4 amd64 4:4.8.7+dfsg-7ubuntu1 [1,552 kB]\n",
            "Get:5 http://archive.ubuntu.com/ubuntu bionic/universe amd64 libqt4-xml amd64 4:4.8.7+dfsg-7ubuntu1 [96.1 kB]\n",
            "Get:6 http://archive.ubuntu.com/ubuntu bionic/universe amd64 libqtdbus4 amd64 4:4.8.7+dfsg-7ubuntu1 [186 kB]\n",
            "Get:7 http://archive.ubuntu.com/ubuntu bionic/universe amd64 qdbus amd64 4:4.8.7+dfsg-7ubuntu1 [30.0 kB]\n",
            "Get:8 http://archive.ubuntu.com/ubuntu bionic/universe amd64 libqt4-dbus amd64 4:4.8.7+dfsg-7ubuntu1 [6,440 B]\n",
            "Get:9 http://archive.ubuntu.com/ubuntu bionic/universe amd64 libqt4-network amd64 4:4.8.7+dfsg-7ubuntu1 [562 kB]\n",
            "Get:10 http://archive.ubuntu.com/ubuntu bionic/universe amd64 libqt4-script amd64 4:4.8.7+dfsg-7ubuntu1 [815 kB]\n",
            "Get:11 http://archive.ubuntu.com/ubuntu bionic/universe amd64 libqt4-sql amd64 4:4.8.7+dfsg-7ubuntu1 [98.5 kB]\n",
            "Get:12 http://archive.ubuntu.com/ubuntu bionic/universe amd64 libqt4-xmlpatterns amd64 4:4.8.7+dfsg-7ubuntu1 [1,091 kB]\n",
            "Get:13 http://archive.ubuntu.com/ubuntu bionic/universe amd64 libqtgui4 amd64 4:4.8.7+dfsg-7ubuntu1 [4,115 kB]\n",
            "Get:14 http://archive.ubuntu.com/ubuntu bionic/universe amd64 libqt4-declarative amd64 4:4.8.7+dfsg-7ubuntu1 [1,089 kB]\n",
            "Get:15 http://archive.ubuntu.com/ubuntu bionic/universe amd64 libqt4-sql-mysql amd64 4:4.8.7+dfsg-7ubuntu1 [30.5 kB]\n",
            "Get:16 http://archive.ubuntu.com/ubuntu bionic/universe amd64 libqt4-test amd64 4:4.8.7+dfsg-7ubuntu1 [61.2 kB]\n",
            "Get:17 http://archive.ubuntu.com/ubuntu bionic/universe amd64 qt-at-spi amd64 0.4.0-8 [58.6 kB]\n",
            "Fetched 10.6 MB in 2s (5,186 kB/s)\n",
            "debconf: unable to initialize frontend: Dialog\n",
            "debconf: (No usable dialog-like program is installed, so the dialog based frontend cannot be used. at /usr/share/perl5/Debconf/FrontEnd/Dialog.pm line 76, <> line 17.)\n",
            "debconf: falling back to frontend: Readline\n",
            "debconf: unable to initialize frontend: Readline\n",
            "debconf: (This frontend requires a controlling tty.)\n",
            "debconf: falling back to frontend: Teletype\n",
            "dpkg-preconfigure: unable to re-open stdin: \n",
            "Selecting previously unselected package libmng2:amd64.\n",
            "(Reading database ... 131010 files and directories currently installed.)\n",
            "Preparing to unpack .../00-libmng2_2.0.2-0ubuntu3_amd64.deb ...\n",
            "Unpacking libmng2:amd64 (2.0.2-0ubuntu3) ...\n",
            "Selecting previously unselected package libaudio2:amd64.\n",
            "Preparing to unpack .../01-libaudio2_1.9.4-6_amd64.deb ...\n",
            "Unpacking libaudio2:amd64 (1.9.4-6) ...\n",
            "Selecting previously unselected package qtcore4-l10n.\n",
            "Preparing to unpack .../02-qtcore4-l10n_4%3a4.8.7+dfsg-7ubuntu1_all.deb ...\n",
            "Unpacking qtcore4-l10n (4:4.8.7+dfsg-7ubuntu1) ...\n",
            "Selecting previously unselected package libqtcore4:amd64.\n",
            "Preparing to unpack .../03-libqtcore4_4%3a4.8.7+dfsg-7ubuntu1_amd64.deb ...\n",
            "Unpacking libqtcore4:amd64 (4:4.8.7+dfsg-7ubuntu1) ...\n",
            "Selecting previously unselected package libqt4-xml:amd64.\n",
            "Preparing to unpack .../04-libqt4-xml_4%3a4.8.7+dfsg-7ubuntu1_amd64.deb ...\n",
            "Unpacking libqt4-xml:amd64 (4:4.8.7+dfsg-7ubuntu1) ...\n",
            "Selecting previously unselected package libqtdbus4:amd64.\n",
            "Preparing to unpack .../05-libqtdbus4_4%3a4.8.7+dfsg-7ubuntu1_amd64.deb ...\n",
            "Unpacking libqtdbus4:amd64 (4:4.8.7+dfsg-7ubuntu1) ...\n",
            "Selecting previously unselected package qdbus.\n",
            "Preparing to unpack .../06-qdbus_4%3a4.8.7+dfsg-7ubuntu1_amd64.deb ...\n",
            "Unpacking qdbus (4:4.8.7+dfsg-7ubuntu1) ...\n",
            "Selecting previously unselected package libqt4-dbus:amd64.\n",
            "Preparing to unpack .../07-libqt4-dbus_4%3a4.8.7+dfsg-7ubuntu1_amd64.deb ...\n",
            "Unpacking libqt4-dbus:amd64 (4:4.8.7+dfsg-7ubuntu1) ...\n",
            "Selecting previously unselected package libqt4-network:amd64.\n",
            "Preparing to unpack .../08-libqt4-network_4%3a4.8.7+dfsg-7ubuntu1_amd64.deb ...\n",
            "Unpacking libqt4-network:amd64 (4:4.8.7+dfsg-7ubuntu1) ...\n",
            "Selecting previously unselected package libqt4-script:amd64.\n",
            "Preparing to unpack .../09-libqt4-script_4%3a4.8.7+dfsg-7ubuntu1_amd64.deb ...\n",
            "Unpacking libqt4-script:amd64 (4:4.8.7+dfsg-7ubuntu1) ...\n",
            "Selecting previously unselected package libqt4-sql:amd64.\n",
            "Preparing to unpack .../10-libqt4-sql_4%3a4.8.7+dfsg-7ubuntu1_amd64.deb ...\n",
            "Unpacking libqt4-sql:amd64 (4:4.8.7+dfsg-7ubuntu1) ...\n",
            "Selecting previously unselected package libqt4-xmlpatterns:amd64.\n",
            "Preparing to unpack .../11-libqt4-xmlpatterns_4%3a4.8.7+dfsg-7ubuntu1_amd64.deb ...\n",
            "Unpacking libqt4-xmlpatterns:amd64 (4:4.8.7+dfsg-7ubuntu1) ...\n",
            "Selecting previously unselected package libqtgui4:amd64.\n",
            "Preparing to unpack .../12-libqtgui4_4%3a4.8.7+dfsg-7ubuntu1_amd64.deb ...\n",
            "Unpacking libqtgui4:amd64 (4:4.8.7+dfsg-7ubuntu1) ...\n",
            "Selecting previously unselected package libqt4-declarative:amd64.\n",
            "Preparing to unpack .../13-libqt4-declarative_4%3a4.8.7+dfsg-7ubuntu1_amd64.deb ...\n",
            "Unpacking libqt4-declarative:amd64 (4:4.8.7+dfsg-7ubuntu1) ...\n",
            "Selecting previously unselected package libqt4-sql-mysql:amd64.\n",
            "Preparing to unpack .../14-libqt4-sql-mysql_4%3a4.8.7+dfsg-7ubuntu1_amd64.deb ...\n",
            "Unpacking libqt4-sql-mysql:amd64 (4:4.8.7+dfsg-7ubuntu1) ...\n",
            "Selecting previously unselected package libqt4-test:amd64.\n",
            "Preparing to unpack .../15-libqt4-test_4%3a4.8.7+dfsg-7ubuntu1_amd64.deb ...\n",
            "Unpacking libqt4-test:amd64 (4:4.8.7+dfsg-7ubuntu1) ...\n",
            "Selecting previously unselected package qt-at-spi:amd64.\n",
            "Preparing to unpack .../16-qt-at-spi_0.4.0-8_amd64.deb ...\n",
            "Unpacking qt-at-spi:amd64 (0.4.0-8) ...\n",
            "Setting up qtcore4-l10n (4:4.8.7+dfsg-7ubuntu1) ...\n",
            "Setting up libmng2:amd64 (2.0.2-0ubuntu3) ...\n",
            "Processing triggers for libc-bin (2.27-3ubuntu1) ...\n",
            "Setting up libqtcore4:amd64 (4:4.8.7+dfsg-7ubuntu1) ...\n",
            "Processing triggers for man-db (2.8.3-2ubuntu0.1) ...\n",
            "Setting up libqt4-test:amd64 (4:4.8.7+dfsg-7ubuntu1) ...\n",
            "Setting up libqt4-xml:amd64 (4:4.8.7+dfsg-7ubuntu1) ...\n",
            "Setting up libaudio2:amd64 (1.9.4-6) ...\n",
            "Setting up libqt4-sql:amd64 (4:4.8.7+dfsg-7ubuntu1) ...\n",
            "Setting up libqtdbus4:amd64 (4:4.8.7+dfsg-7ubuntu1) ...\n",
            "Setting up libqt4-script:amd64 (4:4.8.7+dfsg-7ubuntu1) ...\n",
            "Setting up libqt4-sql-mysql:amd64 (4:4.8.7+dfsg-7ubuntu1) ...\n",
            "Setting up qdbus (4:4.8.7+dfsg-7ubuntu1) ...\n",
            "Setting up libqt4-dbus:amd64 (4:4.8.7+dfsg-7ubuntu1) ...\n",
            "Setting up libqt4-network:amd64 (4:4.8.7+dfsg-7ubuntu1) ...\n",
            "Setting up libqt4-xmlpatterns:amd64 (4:4.8.7+dfsg-7ubuntu1) ...\n",
            "Setting up libqt4-declarative:amd64 (4:4.8.7+dfsg-7ubuntu1) ...\n",
            "Setting up libqtgui4:amd64 (4:4.8.7+dfsg-7ubuntu1) ...\n",
            "Setting up qt-at-spi:amd64 (0.4.0-8) ...\n",
            "Processing triggers for libc-bin (2.27-3ubuntu1) ...\n"
          ],
          "name": "stdout"
        }
      ]
    },
    {
      "cell_type": "code",
      "metadata": {
        "id": "Lv5U6ypDFWUw",
        "colab_type": "code",
        "colab": {
          "base_uri": "https://localhost:8080/",
          "height": 35
        },
        "outputId": "bc76a3a9-5377-4067-fcec-db525327bf5a"
      },
      "source": [
        "!pip install --upgrade imutils"
      ],
      "execution_count": 47,
      "outputs": [
        {
          "output_type": "stream",
          "text": [
            "Requirement already up-to-date: imutils in /usr/local/lib/python3.6/dist-packages (0.5.2)\n"
          ],
          "name": "stdout"
        }
      ]
    },
    {
      "cell_type": "code",
      "metadata": {
        "id": "XSN0hiUUnmB_",
        "colab_type": "code",
        "colab": {
          "base_uri": "https://localhost:8080/",
          "height": 228
        },
        "outputId": "fee65399-3c97-44ca-ac13-045a55262483"
      },
      "source": [
        "!pip install pytesseract"
      ],
      "execution_count": 2,
      "outputs": [
        {
          "output_type": "stream",
          "text": [
            "Collecting pytesseract\n",
            "\u001b[?25l  Downloading https://files.pythonhosted.org/packages/1d/40/3f72d13d0f347bf688ff189b6d6bb369125c0bed9ed4b15e7f20c65123a8/pytesseract-0.2.7.tar.gz (169kB)\n",
            "\r\u001b[K     |██                              | 10kB 13.7MB/s eta 0:00:01\r\u001b[K     |███▉                            | 20kB 3.5MB/s eta 0:00:01\r\u001b[K     |█████▉                          | 30kB 5.1MB/s eta 0:00:01\r\u001b[K     |███████▊                        | 40kB 3.2MB/s eta 0:00:01\r\u001b[K     |█████████▋                      | 51kB 3.9MB/s eta 0:00:01\r\u001b[K     |███████████▋                    | 61kB 4.7MB/s eta 0:00:01\r\u001b[K     |█████████████▌                  | 71kB 5.4MB/s eta 0:00:01\r\u001b[K     |███████████████▌                | 81kB 6.0MB/s eta 0:00:01\r\u001b[K     |█████████████████▍              | 92kB 4.7MB/s eta 0:00:01\r\u001b[K     |███████████████████▎            | 102kB 5.2MB/s eta 0:00:01\r\u001b[K     |█████████████████████▎          | 112kB 5.2MB/s eta 0:00:01\r\u001b[K     |███████████████████████▏        | 122kB 5.2MB/s eta 0:00:01\r\u001b[K     |█████████████████████████▏      | 133kB 5.2MB/s eta 0:00:01\r\u001b[K     |███████████████████████████     | 143kB 5.2MB/s eta 0:00:01\r\u001b[K     |█████████████████████████████   | 153kB 5.2MB/s eta 0:00:01\r\u001b[K     |███████████████████████████████ | 163kB 5.2MB/s eta 0:00:01\r\u001b[K     |████████████████████████████████| 174kB 5.2MB/s \n",
            "\u001b[?25hRequirement already satisfied: Pillow in /usr/local/lib/python3.6/dist-packages (from pytesseract) (4.3.0)\n",
            "Requirement already satisfied: olefile in /usr/local/lib/python3.6/dist-packages (from Pillow->pytesseract) (0.46)\n",
            "Building wheels for collected packages: pytesseract\n",
            "  Building wheel for pytesseract (setup.py) ... \u001b[?25l\u001b[?25hdone\n",
            "  Stored in directory: /root/.cache/pip/wheels/cd/4a/30/998e01b892300ba0ccce7b806b6e889794605a384dac81a49a\n",
            "Successfully built pytesseract\n",
            "Installing collected packages: pytesseract\n",
            "Successfully installed pytesseract-0.2.7\n"
          ],
          "name": "stdout"
        }
      ]
    },
    {
      "cell_type": "code",
      "metadata": {
        "id": "14pouYpBwwJq",
        "colab_type": "code",
        "colab": {
          "base_uri": "https://localhost:8080/",
          "height": 696
        },
        "outputId": "280096e2-2885-4061-dba8-e8677b2a794e"
      },
      "source": [
        "!sudo apt install tesseract-ocr"
      ],
      "execution_count": 7,
      "outputs": [
        {
          "output_type": "stream",
          "text": [
            "Reading package lists... Done\n",
            "Building dependency tree       \n",
            "Reading state information... Done\n",
            "The following package was automatically installed and is no longer required:\n",
            "  libnvidia-common-410\n",
            "Use 'sudo apt autoremove' to remove it.\n",
            "The following additional packages will be installed:\n",
            "  tesseract-ocr-eng tesseract-ocr-osd\n",
            "The following NEW packages will be installed:\n",
            "  tesseract-ocr tesseract-ocr-eng tesseract-ocr-osd\n",
            "0 upgraded, 3 newly installed, 0 to remove and 4 not upgraded.\n",
            "Need to get 4,795 kB of archives.\n",
            "After this operation, 15.8 MB of additional disk space will be used.\n",
            "Get:1 http://archive.ubuntu.com/ubuntu bionic/universe amd64 tesseract-ocr-eng all 4.00~git24-0e00fe6-1.2 [1,588 kB]\n",
            "Get:2 http://archive.ubuntu.com/ubuntu bionic/universe amd64 tesseract-ocr-osd all 4.00~git24-0e00fe6-1.2 [2,989 kB]\n",
            "Get:3 http://archive.ubuntu.com/ubuntu bionic/universe amd64 tesseract-ocr amd64 4.00~git2288-10f4998a-2 [218 kB]\n",
            "Fetched 4,795 kB in 2s (2,900 kB/s)\n",
            "debconf: unable to initialize frontend: Dialog\n",
            "debconf: (No usable dialog-like program is installed, so the dialog based frontend cannot be used. at /usr/share/perl5/Debconf/FrontEnd/Dialog.pm line 76, <> line 3.)\n",
            "debconf: falling back to frontend: Readline\n",
            "debconf: unable to initialize frontend: Readline\n",
            "debconf: (This frontend requires a controlling tty.)\n",
            "debconf: falling back to frontend: Teletype\n",
            "dpkg-preconfigure: unable to re-open stdin: \n",
            "Selecting previously unselected package tesseract-ocr-eng.\n",
            "(Reading database ... 130963 files and directories currently installed.)\n",
            "Preparing to unpack .../tesseract-ocr-eng_4.00~git24-0e00fe6-1.2_all.deb ...\n",
            "Unpacking tesseract-ocr-eng (4.00~git24-0e00fe6-1.2) ...\n",
            "Selecting previously unselected package tesseract-ocr-osd.\n",
            "Preparing to unpack .../tesseract-ocr-osd_4.00~git24-0e00fe6-1.2_all.deb ...\n",
            "Unpacking tesseract-ocr-osd (4.00~git24-0e00fe6-1.2) ...\n",
            "Selecting previously unselected package tesseract-ocr.\n",
            "Preparing to unpack .../tesseract-ocr_4.00~git2288-10f4998a-2_amd64.deb ...\n",
            "Unpacking tesseract-ocr (4.00~git2288-10f4998a-2) ...\n",
            "Setting up tesseract-ocr-osd (4.00~git24-0e00fe6-1.2) ...\n",
            "Setting up tesseract-ocr-eng (4.00~git24-0e00fe6-1.2) ...\n",
            "Processing triggers for man-db (2.8.3-2ubuntu0.1) ...\n",
            "Setting up tesseract-ocr (4.00~git2288-10f4998a-2) ...\n"
          ],
          "name": "stdout"
        }
      ]
    },
    {
      "cell_type": "code",
      "metadata": {
        "id": "jeOW4W-Du0uV",
        "colab_type": "code",
        "colab": {}
      },
      "source": [
        "import pytesseract\n",
        "import cv2"
      ],
      "execution_count": 0,
      "outputs": []
    },
    {
      "cell_type": "code",
      "metadata": {
        "id": "P2KSfUGVvERY",
        "colab_type": "code",
        "colab": {}
      },
      "source": [
        "imPath = \"/content/drive/My Drive/HR_Analytics/datasets/test_ps/subhpan.jpg\"\n",
        "# im = cv2.imread(imPath, cv2.IMREAD_COLOR)\n",
        "# text = pytesseract.image_to_string(im)\n",
        "# print(text)"
      ],
      "execution_count": 0,
      "outputs": []
    },
    {
      "cell_type": "code",
      "metadata": {
        "id": "Br9G6CnM3E-b",
        "colab_type": "code",
        "colab": {
          "base_uri": "https://localhost:8080/",
          "height": 52
        },
        "outputId": "9e0ca980-5b19-4bf2-ef05-8abcb0e6ebc3"
      },
      "source": [
        "import imutils\n",
        "from imutils.object_detection import non_max_suppression\n",
        "\n",
        "imPath = \"/content/drive/My Drive/HR_Analytics/datasets/test_ps/JitinPan.jpg\"\n",
        "image = cv2.imread(imPath)\n",
        "\n",
        "# image = imutils.resize(image, height=600)\n",
        "# gray = cv2.cvtColor(image, cv2.COLOR_BGR2GRAY)\n",
        "# gray = cv2.GaussianBlur(gray, (3, 3), 0)\n",
        "\n",
        "orig = image.copy()\n",
        "image = imutils.resize(image, height=300, width=300)\n",
        "\n",
        "\n",
        "text = pytesseract.image_to_string(image)\n",
        "print(text)"
      ],
      "execution_count": 57,
      "outputs": [
        {
          "output_type": "stream",
          "text": [
            "crrerex ©\n",
            "INCOME” _ RTA\n"
          ],
          "name": "stdout"
        }
      ]
    },
    {
      "cell_type": "code",
      "metadata": {
        "id": "xIaWteKoHycJ",
        "colab_type": "code",
        "colab": {}
      },
      "source": [
        "# USAGE\n",
        "# python text_recognition.py --east frozen_east_text_detection.pb --image images/example_01.jpg\n",
        "# python text_recognition.py --east frozen_east_text_detection.pb --image images/example_04.jpg --padding 0.05\n",
        "\n",
        "# import the necessary packages\n",
        "from imutils.object_detection import non_max_suppression\n",
        "import numpy as np\n",
        "import pytesseract\n",
        "import argparse\n",
        "import cv2\n",
        "\n",
        "def decode_predictions(scores, geometry):\n",
        "\t# grab the number of rows and columns from the scores volume, then\n",
        "\t# initialize our set of bounding box rectangles and corresponding\n",
        "\t# confidence scores\n",
        "\t(numRows, numCols) = scores.shape[2:4]\n",
        "\trects = []\n",
        "\tconfidences = []\n",
        "\n",
        "\t# loop over the number of rows\n",
        "\tfor y in range(0, numRows):\n",
        "\t\t# extract the scores (probabilities), followed by the\n",
        "\t\t# geometrical data used to derive potential bounding box\n",
        "\t\t# coordinates that surround text\n",
        "\t\tscoresData = scores[0, 0, y]\n",
        "\t\txData0 = geometry[0, 0, y]\n",
        "\t\txData1 = geometry[0, 1, y]\n",
        "\t\txData2 = geometry[0, 2, y]\n",
        "\t\txData3 = geometry[0, 3, y]\n",
        "\t\tanglesData = geometry[0, 4, y]\n",
        "\n",
        "\t\t# loop over the number of columns\n",
        "\t\tfor x in range(0, numCols):\n",
        "\t\t\t# if our score does not have sufficient probability,\n",
        "\t\t\t# ignore it\n",
        "\t\t\tif scoresData[x] < args[\"min_confidence\"]:\n",
        "\t\t\t\tcontinue\n",
        "\n",
        "\t\t\t# compute the offset factor as our resulting feature\n",
        "\t\t\t# maps will be 4x smaller than the input image\n",
        "\t\t\t(offsetX, offsetY) = (x * 4.0, y * 4.0)\n",
        "\n",
        "\t\t\t# extract the rotation angle for the prediction and\n",
        "\t\t\t# then compute the sin and cosine\n",
        "\t\t\tangle = anglesData[x]\n",
        "\t\t\tcos = np.cos(angle)\n",
        "\t\t\tsin = np.sin(angle)\n",
        "\n",
        "\t\t\t# use the geometry volume to derive the width and height\n",
        "\t\t\t# of the bounding box\n",
        "\t\t\th = xData0[x] + xData2[x]\n",
        "\t\t\tw = xData1[x] + xData3[x]\n",
        "\n",
        "\t\t\t# compute both the starting and ending (x, y)-coordinates\n",
        "\t\t\t# for the text prediction bounding box\n",
        "\t\t\tendX = int(offsetX + (cos * xData1[x]) + (sin * xData2[x]))\n",
        "\t\t\tendY = int(offsetY - (sin * xData1[x]) + (cos * xData2[x]))\n",
        "\t\t\tstartX = int(endX - w)\n",
        "\t\t\tstartY = int(endY - h)\n",
        "\n",
        "\t\t\t# add the bounding box coordinates and probability score\n",
        "\t\t\t# to our respective lists\n",
        "\t\t\trects.append((startX, startY, endX, endY))\n",
        "\t\t\tconfidences.append(scoresData[x])\n",
        "\n",
        "\t# return a tuple of the bounding boxes and associated confidences\n",
        "\treturn (rects, confidences)"
      ],
      "execution_count": 0,
      "outputs": []
    },
    {
      "cell_type": "code",
      "metadata": {
        "id": "RLWox6VGOHVq",
        "colab_type": "code",
        "colab": {}
      },
      "source": [
        "# construct the argument parser and parse the arguments\n",
        "ap = argparse.ArgumentParser()\n",
        "ap.add_argument(\"-i\", \"--image\", type=str,\n",
        "\thelp=\"path to input image\")\n",
        "ap.add_argument(\"-east\", \"--east\", type=str,\n",
        "\thelp=\"path to input EAST text detector\")\n",
        "ap.add_argument(\"-c\", \"--min-confidence\", type=float, default=0.5,\n",
        "\thelp=\"minimum probability required to inspect a region\")\n",
        "ap.add_argument(\"-w\", \"--width\", type=int, default=320,\n",
        "\thelp=\"nearest multiple of 32 for resized width\")\n",
        "ap.add_argument(\"-e\", \"--height\", type=int, default=320,\n",
        "\thelp=\"nearest multiple of 32 for resized height\")\n",
        "ap.add_argument(\"-p\", \"--padding\", type=float, default=0.0,\n",
        "\thelp=\"amount of padding to add to each border of ROI\")\n",
        "args = vars(ap.parse_args())\n",
        "\n",
        "# load the input image and grab the image dimensions\n",
        "imPath = \"/content/drive/My Drive/HR_Analytics/datasets/test_ps/JitinPan.jpg\"\n",
        "image = cv2.imread(imPath)\n",
        "orig = image.copy()\n",
        "(origH, origW) = image.shape[:2]\n",
        "\n",
        "# set the new width and height and then determine the ratio in change\n",
        "# for both the width and height\n",
        "(newW, newH) = (args[\"width\"], args[\"height\"])\n",
        "rW = origW / float(newW)\n",
        "rH = origH / float(newH)\n",
        "\n",
        "# resize the image and grab the new image dimensions\n",
        "image = cv2.resize(image, (newW, newH))\n",
        "(H, W) = image.shape[:2]\n",
        "\n",
        "# define the two output layer names for the EAST detector model that\n",
        "# we are interested -- the first is the output probabilities and the\n",
        "# second can be used to derive the bounding box coordinates of text\n",
        "layerNames = [\n",
        "\t\"feature_fusion/Conv_7/Sigmoid\",\n",
        "\t\"feature_fusion/concat_3\"]\n",
        "\n",
        "# load the pre-trained EAST text detector\n",
        "print(\"[INFO] loading EAST text detector...\")\n",
        "east_path = \"/content/drive/My Drive/HR_Analytics/datasets/test_ps/frozen_east_text_detection.pb\"\n",
        "net = cv2.dnn.readNet()\n",
        "\n",
        "# construct a blob from the image and then perform a forward pass of\n",
        "# the model to obtain the two output layer sets\n",
        "blob = cv2.dnn.blobFromImage(image, 1.0, (W, H),\n",
        "\t(123.68, 116.78, 103.94), swapRB=True, crop=False)\n",
        "net.setInput(blob)\n",
        "(scores, geometry) = net.forward(layerNames)\n",
        "\n",
        "# decode the predictions, then  apply non-maxima suppression to\n",
        "# suppress weak, overlapping bounding boxes\n",
        "(rects, confidences) = decode_predictions(scores, geometry)\n",
        "boxes = non_max_suppression(np.array(rects), probs=confidences)\n",
        "\n",
        "# initialize the list of results\n",
        "results = []\n",
        "\n",
        "# loop over the bounding boxes\n",
        "for (startX, startY, endX, endY) in boxes:\n",
        "\t# scale the bounding box coordinates based on the respective\n",
        "\t# ratios\n",
        "\tstartX = int(startX * rW)\n",
        "\tstartY = int(startY * rH)\n",
        "\tendX = int(endX * rW)\n",
        "\tendY = int(endY * rH)\n",
        "\n",
        "\t# in order to obtain a better OCR of the text we can potentially\n",
        "\t# apply a bit of padding surrounding the bounding box -- here we\n",
        "\t# are computing the deltas in both the x and y directions\n",
        "\tdX = int((endX - startX) * 0.25)\n",
        "\tdY = int((endY - startY) * 0.25)\n",
        "\n",
        "\t# apply padding to each side of the bounding box, respectively\n",
        "\tstartX = max(0, startX - dX)\n",
        "\tstartY = max(0, startY - dY)\n",
        "\tendX = min(origW, endX + (dX * 2))\n",
        "\tendY = min(origH, endY + (dY * 2))\n",
        "\n",
        "\t# extract the actual padded ROI\n",
        "\troi = orig[startY:endY, startX:endX]\n",
        "\n",
        "\t# in order to apply Tesseract v4 to OCR text we must supply\n",
        "\t# (1) a language, (2) an OEM flag of 4, indicating that the we\n",
        "\t# wish to use the LSTM neural net model for OCR, and finally\n",
        "\t# (3) an OEM value, in this case, 7 which implies that we are\n",
        "\t# treating the ROI as a single line of text\n",
        "\tconfig = (\"-l eng --oem 1 --psm 7\")\n",
        "\ttext = pytesseract.image_to_string(roi, config=config)\n",
        "\n",
        "\t# add the bounding box coordinates and OCR'd text to the list\n",
        "\t# of results\n",
        "\tresults.append(((startX, startY, endX, endY), text))\n",
        "\n",
        "# sort the results bounding box coordinates from top to bottom\n",
        "results = sorted(results, key=lambda r:r[0][1])\n",
        "\n",
        "# loop over the results\n",
        "for ((startX, startY, endX, endY), text) in results:\n",
        "\t# display the text OCR'd by Tesseract\n",
        "\tprint(\"OCR TEXT\")\n",
        "\tprint(\"========\")\n",
        "\tprint(\"{}\\n\".format(text))\n",
        "\n",
        "\t# strip out non-ASCII text so we can draw the text on the image\n",
        "\t# using OpenCV, then draw the text and a bounding box surrounding\n",
        "\t# the text region of the input image\n",
        "\ttext = \"\".join([c if ord(c) < 128 else \"\" for c in text]).strip()\n",
        "\toutput = orig.copy()\n",
        "\tcv2.rectangle(output, (startX, startY), (endX, endY),\n",
        "\t\t(0, 0, 255), 2)\n",
        "\tcv2.putText(output, text, (startX, startY - 20),\n",
        "\t\tcv2.FONT_HERSHEY_SIMPLEX, 1.2, (0, 0, 255), 3)\n",
        "\n",
        "\t# show the output image\n",
        "\tcv2.imshow(\"Text Detection\", output)\n",
        "\tcv2.waitKey(0)"
      ],
      "execution_count": 0,
      "outputs": []
    }
  ]
}