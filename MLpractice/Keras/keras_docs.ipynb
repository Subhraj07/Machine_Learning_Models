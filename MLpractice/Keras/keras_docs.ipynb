{
  "nbformat": 4,
  "nbformat_minor": 0,
  "metadata": {
    "colab": {
      "name": "keras_docs.ipynb",
      "version": "0.3.2",
      "provenance": [],
      "include_colab_link": true
    },
    "kernelspec": {
      "name": "python3",
      "display_name": "Python 3"
    }
  },
  "cells": [
    {
      "cell_type": "markdown",
      "metadata": {
        "id": "view-in-github",
        "colab_type": "text"
      },
      "source": [
        "<a href=\"https://colab.research.google.com/github/Subhraj07/Machine_Learning_Models/blob/master/MLpractice/Keras/keras_docs.ipynb\" target=\"_parent\"><img src=\"https://colab.research.google.com/assets/colab-badge.svg\" alt=\"Open In Colab\"/></a>"
      ]
    },
    {
      "cell_type": "markdown",
      "metadata": {
        "id": "3eWD2SI-gj3m",
        "colab_type": "text"
      },
      "source": [
        "### A sequential Keras model is a linear pipeline (a stack) of neural networks layers\n",
        "### A single layer with 12 artificial neurons, and it expects 8 input variables (also known as features):\n",
        "\n",
        "#### kernel_initializer (Each neuron can be initialized with specific weights)\n",
        "* random_uniform: Weights are initialized to uniformly random small values in\n",
        "(-0.05, 0.05). In other words, any value within the given interval is equally likely\n",
        "to be drawn.\n",
        "\n",
        "* random_normal: Weights are initialized according to a Gaussian, with a zero\n",
        "mean and small standard deviation of 0.05. For those of you who are not familiar\n",
        "with a Gaussian, think about a symmetric bell curve shape.\n",
        "\n",
        "* zero: All weights are initialized to zero.\n",
        "\n",
        "##### (A full list is available at https://keras.io/initializations/)"
      ]
    },
    {
      "cell_type": "code",
      "metadata": {
        "id": "FHaITUGsfxLn",
        "colab_type": "code",
        "colab": {}
      },
      "source": [
        "from keras.models import Sequential\n",
        "model = Sequential()\n",
        "model.add(Dense(12, input_dim=8, kernel_initializer='random_uniform'))"
      ],
      "execution_count": 0,
      "outputs": []
    },
    {
      "cell_type": "markdown",
      "metadata": {
        "id": "c0SuTXKwoRML",
        "colab_type": "text"
      },
      "source": [
        "### Problems in training the perceptron and a solution\n",
        "\n",
        "* we would like to provide a set of training examples and let the computer adjust the\n",
        "weight and the bias in such a way that the errors produced in the output are minimized. In\n",
        "order to make this a bit more concrete, let's suppose we have a set of images of cats and\n",
        "another separate set of images not containing cats. For the sake of simplicity, assume that\n",
        "each neuron looks at a single input pixel value. While the computer processes these images,\n",
        "we would like our neuron to adjust its weights and bias so that we have fewer and fewer\n",
        "images wrongly recognized as non-cats. This approach seems very intuitive, but it requires\n",
        "that a small change in weights (and/or bias) causes only a small change in outputs.\n",
        "\n",
        "If we have a big output jump, we cannot progressively learn(rather than trying things in all\n",
        "possible directions—a process known as exhaustive search—without knowing if we are\n",
        "improving)\n"
      ]
    },
    {
      "cell_type": "code",
      "metadata": {
        "id": "R3fMbPMxoKZO",
        "colab_type": "code",
        "colab": {}
      },
      "source": [
        ""
      ],
      "execution_count": 0,
      "outputs": []
    }
  ]
}