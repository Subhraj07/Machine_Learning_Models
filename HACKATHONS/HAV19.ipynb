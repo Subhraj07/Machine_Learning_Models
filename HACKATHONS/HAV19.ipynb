{
  "nbformat": 4,
  "nbformat_minor": 0,
  "metadata": {
    "colab": {
      "name": "HAV19.ipynb",
      "version": "0.3.2",
      "provenance": [],
      "collapsed_sections": [],
      "include_colab_link": true
    },
    "kernelspec": {
      "name": "python3",
      "display_name": "Python 3"
    }
  },
  "cells": [
    {
      "cell_type": "markdown",
      "metadata": {
        "id": "view-in-github",
        "colab_type": "text"
      },
      "source": [
        "<a href=\"https://colab.research.google.com/github/Subhraj07/Machine_Learning_Models/blob/master/HACKATHONS/HAV19.ipynb\" target=\"_parent\"><img src=\"https://colab.research.google.com/assets/colab-badge.svg\" alt=\"Open In Colab\"/></a>"
      ]
    },
    {
      "cell_type": "code",
      "metadata": {
        "id": "MXaC_ruXa5u3",
        "colab_type": "code",
        "colab": {
          "base_uri": "https://localhost:8080/",
          "height": 124
        },
        "outputId": "c75f6f36-93e9-4f9b-9a23-fed024788a3e"
      },
      "source": [
        "from google.colab import drive\n",
        "drive.mount('/content/drive')"
      ],
      "execution_count": 1,
      "outputs": [
        {
          "output_type": "stream",
          "text": [
            "Go to this URL in a browser: https://accounts.google.com/o/oauth2/auth?client_id=947318989803-6bn6qk8qdgf4n4g3pfee6491hc0brc4i.apps.googleusercontent.com&redirect_uri=urn%3Aietf%3Awg%3Aoauth%3A2.0%3Aoob&scope=email%20https%3A%2F%2Fwww.googleapis.com%2Fauth%2Fdocs.test%20https%3A%2F%2Fwww.googleapis.com%2Fauth%2Fdrive%20https%3A%2F%2Fwww.googleapis.com%2Fauth%2Fdrive.photos.readonly%20https%3A%2F%2Fwww.googleapis.com%2Fauth%2Fpeopleapi.readonly&response_type=code\n",
            "\n",
            "Enter your authorization code:\n",
            "··········\n",
            "Mounted at /content/drive\n"
          ],
          "name": "stdout"
        }
      ]
    },
    {
      "cell_type": "code",
      "metadata": {
        "id": "_YBuAmIxbarJ",
        "colab_type": "code",
        "colab": {
          "base_uri": "https://localhost:8080/",
          "height": 413
        },
        "outputId": "51277b4f-d9ba-4ce7-8790-008a617fc945"
      },
      "source": [
        "import numpy as np\n",
        "import pandas as pd\n",
        "import seaborn as sns\n",
        "import matplotlib.pyplot as plt\n",
        "\n",
        "df = pd.read_csv('/content/drive/My Drive/HACKATHONS/AV/ML2019/train.csv')\n",
        "print(df.columns)\n",
        "df.head()"
      ],
      "execution_count": 15,
      "outputs": [
        {
          "output_type": "stream",
          "text": [
            "Index(['loan_id', 'source', 'financial_institution', 'interest_rate',\n",
            "       'unpaid_principal_bal', 'loan_term', 'origination_date',\n",
            "       'first_payment_date', 'loan_to_value', 'number_of_borrowers',\n",
            "       'debt_to_income_ratio', 'borrower_credit_score', 'loan_purpose',\n",
            "       'insurance_percent', 'co-borrower_credit_score', 'insurance_type', 'm1',\n",
            "       'm2', 'm3', 'm4', 'm5', 'm6', 'm7', 'm8', 'm9', 'm10', 'm11', 'm12',\n",
            "       'm13'],\n",
            "      dtype='object')\n"
          ],
          "name": "stdout"
        },
        {
          "output_type": "execute_result",
          "data": {
            "text/html": [
              "<div>\n",
              "<style scoped>\n",
              "    .dataframe tbody tr th:only-of-type {\n",
              "        vertical-align: middle;\n",
              "    }\n",
              "\n",
              "    .dataframe tbody tr th {\n",
              "        vertical-align: top;\n",
              "    }\n",
              "\n",
              "    .dataframe thead th {\n",
              "        text-align: right;\n",
              "    }\n",
              "</style>\n",
              "<table border=\"1\" class=\"dataframe\">\n",
              "  <thead>\n",
              "    <tr style=\"text-align: right;\">\n",
              "      <th></th>\n",
              "      <th>loan_id</th>\n",
              "      <th>source</th>\n",
              "      <th>financial_institution</th>\n",
              "      <th>interest_rate</th>\n",
              "      <th>unpaid_principal_bal</th>\n",
              "      <th>loan_term</th>\n",
              "      <th>origination_date</th>\n",
              "      <th>first_payment_date</th>\n",
              "      <th>loan_to_value</th>\n",
              "      <th>number_of_borrowers</th>\n",
              "      <th>debt_to_income_ratio</th>\n",
              "      <th>borrower_credit_score</th>\n",
              "      <th>loan_purpose</th>\n",
              "      <th>insurance_percent</th>\n",
              "      <th>co-borrower_credit_score</th>\n",
              "      <th>insurance_type</th>\n",
              "      <th>m1</th>\n",
              "      <th>m2</th>\n",
              "      <th>m3</th>\n",
              "      <th>m4</th>\n",
              "      <th>m5</th>\n",
              "      <th>m6</th>\n",
              "      <th>m7</th>\n",
              "      <th>m8</th>\n",
              "      <th>m9</th>\n",
              "      <th>m10</th>\n",
              "      <th>m11</th>\n",
              "      <th>m12</th>\n",
              "      <th>m13</th>\n",
              "    </tr>\n",
              "  </thead>\n",
              "  <tbody>\n",
              "    <tr>\n",
              "      <th>0</th>\n",
              "      <td>268055008619</td>\n",
              "      <td>Z</td>\n",
              "      <td>Turner, Baldwin and Rhodes</td>\n",
              "      <td>4.250</td>\n",
              "      <td>214000</td>\n",
              "      <td>360</td>\n",
              "      <td>2012-03-01</td>\n",
              "      <td>05/2012</td>\n",
              "      <td>95</td>\n",
              "      <td>1.0</td>\n",
              "      <td>22.0</td>\n",
              "      <td>694.0</td>\n",
              "      <td>C86</td>\n",
              "      <td>30.0</td>\n",
              "      <td>0.0</td>\n",
              "      <td>0.0</td>\n",
              "      <td>0</td>\n",
              "      <td>0</td>\n",
              "      <td>0</td>\n",
              "      <td>0</td>\n",
              "      <td>0</td>\n",
              "      <td>0</td>\n",
              "      <td>1</td>\n",
              "      <td>0</td>\n",
              "      <td>0</td>\n",
              "      <td>0</td>\n",
              "      <td>0</td>\n",
              "      <td>0</td>\n",
              "      <td>1</td>\n",
              "    </tr>\n",
              "    <tr>\n",
              "      <th>1</th>\n",
              "      <td>672831657627</td>\n",
              "      <td>Y</td>\n",
              "      <td>Swanson, Newton and Miller</td>\n",
              "      <td>4.875</td>\n",
              "      <td>144000</td>\n",
              "      <td>360</td>\n",
              "      <td>2012-01-01</td>\n",
              "      <td>03/2012</td>\n",
              "      <td>72</td>\n",
              "      <td>1.0</td>\n",
              "      <td>44.0</td>\n",
              "      <td>697.0</td>\n",
              "      <td>B12</td>\n",
              "      <td>0.0</td>\n",
              "      <td>0.0</td>\n",
              "      <td>0.0</td>\n",
              "      <td>0</td>\n",
              "      <td>0</td>\n",
              "      <td>0</td>\n",
              "      <td>0</td>\n",
              "      <td>0</td>\n",
              "      <td>0</td>\n",
              "      <td>0</td>\n",
              "      <td>0</td>\n",
              "      <td>0</td>\n",
              "      <td>0</td>\n",
              "      <td>1</td>\n",
              "      <td>0</td>\n",
              "      <td>1</td>\n",
              "    </tr>\n",
              "    <tr>\n",
              "      <th>2</th>\n",
              "      <td>742515242108</td>\n",
              "      <td>Z</td>\n",
              "      <td>Thornton-Davis</td>\n",
              "      <td>3.250</td>\n",
              "      <td>366000</td>\n",
              "      <td>180</td>\n",
              "      <td>2012-01-01</td>\n",
              "      <td>03/2012</td>\n",
              "      <td>49</td>\n",
              "      <td>1.0</td>\n",
              "      <td>33.0</td>\n",
              "      <td>780.0</td>\n",
              "      <td>B12</td>\n",
              "      <td>0.0</td>\n",
              "      <td>0.0</td>\n",
              "      <td>0.0</td>\n",
              "      <td>0</td>\n",
              "      <td>0</td>\n",
              "      <td>0</td>\n",
              "      <td>0</td>\n",
              "      <td>0</td>\n",
              "      <td>0</td>\n",
              "      <td>0</td>\n",
              "      <td>0</td>\n",
              "      <td>0</td>\n",
              "      <td>0</td>\n",
              "      <td>0</td>\n",
              "      <td>0</td>\n",
              "      <td>1</td>\n",
              "    </tr>\n",
              "    <tr>\n",
              "      <th>3</th>\n",
              "      <td>601385667462</td>\n",
              "      <td>X</td>\n",
              "      <td>OTHER</td>\n",
              "      <td>4.750</td>\n",
              "      <td>135000</td>\n",
              "      <td>360</td>\n",
              "      <td>2012-02-01</td>\n",
              "      <td>04/2012</td>\n",
              "      <td>46</td>\n",
              "      <td>2.0</td>\n",
              "      <td>44.0</td>\n",
              "      <td>633.0</td>\n",
              "      <td>B12</td>\n",
              "      <td>0.0</td>\n",
              "      <td>638.0</td>\n",
              "      <td>0.0</td>\n",
              "      <td>0</td>\n",
              "      <td>0</td>\n",
              "      <td>0</td>\n",
              "      <td>0</td>\n",
              "      <td>0</td>\n",
              "      <td>0</td>\n",
              "      <td>0</td>\n",
              "      <td>0</td>\n",
              "      <td>1</td>\n",
              "      <td>1</td>\n",
              "      <td>1</td>\n",
              "      <td>1</td>\n",
              "      <td>1</td>\n",
              "    </tr>\n",
              "    <tr>\n",
              "      <th>4</th>\n",
              "      <td>273870029961</td>\n",
              "      <td>X</td>\n",
              "      <td>OTHER</td>\n",
              "      <td>4.750</td>\n",
              "      <td>124000</td>\n",
              "      <td>360</td>\n",
              "      <td>2012-02-01</td>\n",
              "      <td>04/2012</td>\n",
              "      <td>80</td>\n",
              "      <td>1.0</td>\n",
              "      <td>43.0</td>\n",
              "      <td>681.0</td>\n",
              "      <td>C86</td>\n",
              "      <td>0.0</td>\n",
              "      <td>0.0</td>\n",
              "      <td>0.0</td>\n",
              "      <td>0</td>\n",
              "      <td>1</td>\n",
              "      <td>2</td>\n",
              "      <td>3</td>\n",
              "      <td>4</td>\n",
              "      <td>5</td>\n",
              "      <td>6</td>\n",
              "      <td>7</td>\n",
              "      <td>8</td>\n",
              "      <td>9</td>\n",
              "      <td>10</td>\n",
              "      <td>11</td>\n",
              "      <td>1</td>\n",
              "    </tr>\n",
              "  </tbody>\n",
              "</table>\n",
              "</div>"
            ],
            "text/plain": [
              "        loan_id source       financial_institution  ...  m11  m12  m13\n",
              "0  268055008619      Z  Turner, Baldwin and Rhodes  ...    0    0    1\n",
              "1  672831657627      Y  Swanson, Newton and Miller  ...    1    0    1\n",
              "2  742515242108      Z              Thornton-Davis  ...    0    0    1\n",
              "3  601385667462      X                       OTHER  ...    1    1    1\n",
              "4  273870029961      X                       OTHER  ...   10   11    1\n",
              "\n",
              "[5 rows x 29 columns]"
            ]
          },
          "metadata": {
            "tags": []
          },
          "execution_count": 15
        }
      ]
    },
    {
      "cell_type": "code",
      "metadata": {
        "id": "h42mCXsEurE_",
        "colab_type": "code",
        "colab": {
          "base_uri": "https://localhost:8080/",
          "height": 895
        },
        "outputId": "5abe0c29-b540-4a8c-96de-2dfb20a365d9"
      },
      "source": [
        "df1 = df[['loan_id', 'source', 'financial_institution', 'interest_rate',\n",
        "       'unpaid_principal_bal', 'loan_term', 'origination_date',\n",
        "       'first_payment_date', 'loan_to_value', 'number_of_borrowers',\n",
        "       'debt_to_income_ratio', 'borrower_credit_score', 'loan_purpose',\n",
        "       'insurance_percent', 'co-borrower_credit_score', 'insurance_type']]\n",
        "fig, ax = plt.subplots(figsize=(13,13))\n",
        "sns.heatmap(df1.corr(), annot=True, linewidths=.4, ax=ax)\n",
        "plt.show()"
      ],
      "execution_count": 23,
      "outputs": [
        {
          "output_type": "display_data",
          "data": {
            "image/png": "[encoded data removed]",
            "text/plain": [
              "<Figure size 936x936 with 2 Axes>"
            ]
          },
          "metadata": {
            "tags": []
          }
        }
      ]
    },
    {
      "cell_type": "code",
      "metadata": {
        "id": "sb6Js5JNv_RW",
        "colab_type": "code",
        "colab": {}
      },
      "source": [
        "# X= dataset.iloc[:,0:8]\n",
        "# y= dataset.iloc[:,8]\n",
        "X = df.iloc[:,[3,4,5,8,9,10,11,13,14,15,16,17,18,19,20,21,22,23,24,25,26,27]]\n",
        "y = df.iloc[:,28]"
      ],
      "execution_count": 0,
      "outputs": []
    },
    {
      "cell_type": "code",
      "metadata": {
        "id": "iFQmFAGL2FPd",
        "colab_type": "code",
        "colab": {
          "base_uri": "https://localhost:8080/",
          "height": 243
        },
        "outputId": "1292c13a-8cc2-4739-a251-b615f8ec3a59"
      },
      "source": [
        "#standardizing the input feature\n",
        "from sklearn.preprocessing import StandardScaler\n",
        "sc = StandardScaler()\n",
        "X = sc.fit_transform(X)\n",
        "X"
      ],
      "execution_count": 32,
      "outputs": [
        {
          "output_type": "execute_result",
          "data": {
            "text/plain": [
              "array([[ 0.82651708,  0.05034483,  0.75442817, ..., -0.04458259,\n",
              "        -0.04364174, -0.04527618],\n",
              "       [ 2.18221241, -0.5600248 ,  0.75442817, ..., -0.04458259,\n",
              "         6.09571886, -0.04527618],\n",
              "       [-1.34259545,  1.37571888, -1.25087412, ..., -0.04458259,\n",
              "        -0.04364174, -0.04527618],\n",
              "       ...,\n",
              "       [ 0.01309988, -0.36819435,  0.75442817, ..., -0.04458259,\n",
              "        -0.04364174, -0.04527618],\n",
              "       [ 0.82651708, -0.34203565,  0.75442817, ..., -0.04458259,\n",
              "        -0.04364174, -0.04527618],\n",
              "       [-1.07145638,  0.38168834, -1.25087412, ..., -0.04458259,\n",
              "        -0.04364174, -0.04527618]])"
            ]
          },
          "metadata": {
            "tags": []
          },
          "execution_count": 32
        }
      ]
    },
    {
      "cell_type": "code",
      "metadata": {
        "id": "SQcxPRCf2PNk",
        "colab_type": "code",
        "colab": {}
      },
      "source": [
        "from sklearn.model_selection import train_test_split\n",
        "X_train, X_test, y_train, y_test = train_test_split(X, y, test_size=0.3)"
      ],
      "execution_count": 0,
      "outputs": []
    },
    {
      "cell_type": "code",
      "metadata": {
        "id": "GuLfebbM2VMf",
        "colab_type": "code",
        "colab": {
          "base_uri": "https://localhost:8080/",
          "height": 35
        },
        "outputId": "973f00e1-9f26-4032-87a5-f0b3b28dd2a5"
      },
      "source": [
        "from keras import Sequential\n",
        "from keras.layers import Dense"
      ],
      "execution_count": 34,
      "outputs": [
        {
          "output_type": "stream",
          "text": [
            "Using TensorFlow backend.\n"
          ],
          "name": "stderr"
        }
      ]
    },
    {
      "cell_type": "code",
      "metadata": {
        "id": "SkcVY8YO2e38",
        "colab_type": "code",
        "colab": {}
      },
      "source": [
        "classifier = Sequential()\n",
        "#First Hidden Layer\n",
        "classifier.add(Dense(9, activation='relu', kernel_initializer='random_normal', input_dim=22))\n",
        "#Second  Hidden Layer\n",
        "classifier.add(Dense(9, activation='relu', kernel_initializer='random_normal'))\n",
        "#Output Layer\n",
        "classifier.add(Dense(1, activation='sigmoid', kernel_initializer='random_normal'))"
      ],
      "execution_count": 0,
      "outputs": []
    },
    {
      "cell_type": "code",
      "metadata": {
        "id": "MFq2hkkq35nm",
        "colab_type": "code",
        "colab": {}
      },
      "source": [
        "#Compiling the neural network\n",
        "classifier.compile(optimizer ='adam',loss='binary_crossentropy', metrics =['accuracy'])"
      ],
      "execution_count": 0,
      "outputs": []
    },
    {
      "cell_type": "code",
      "metadata": {
        "id": "h3fIws9R3-d5",
        "colab_type": "code",
        "colab": {
          "base_uri": "https://localhost:8080/",
          "height": 1000
        },
        "outputId": "3b84869d-d423-4558-861b-de08541b4be5"
      },
      "source": [
        "#Fitting the data to the training dataset\n",
        "classifier.fit(X_train,y_train, batch_size=10, epochs=100)"
      ],
      "execution_count": 42,
      "outputs": [
        {
          "output_type": "stream",
          "text": [
            "W0818 08:39:05.966108 140338073253760 deprecation_wrapper.py:119] From /usr/local/lib/python3.6/dist-packages/keras/backend/tensorflow_backend.py:986: The name tf.assign_add is deprecated. Please use tf.compat.v1.assign_add instead.\n",
            "\n"
          ],
          "name": "stderr"
        },
        {
          "output_type": "stream",
          "text": [
            "Epoch 1/100\n",
            "81240/81240 [==============================] - 11s 130us/step - loss: 0.0325 - acc: 0.9954\n",
            "Epoch 2/100\n",
            "81240/81240 [==============================] - 10s 119us/step - loss: 0.0196 - acc: 0.9960\n",
            "Epoch 3/100\n",
            "81240/81240 [==============================] - 10s 125us/step - loss: 0.0194 - acc: 0.9960\n",
            "Epoch 4/100\n",
            "81240/81240 [==============================] - 10s 123us/step - loss: 0.0193 - acc: 0.9960\n",
            "Epoch 5/100\n",
            "81240/81240 [==============================] - 10s 121us/step - loss: 0.0193 - acc: 0.9960\n",
            "Epoch 6/100\n",
            "81240/81240 [==============================] - 10s 121us/step - loss: 0.0193 - acc: 0.9960\n",
            "Epoch 7/100\n",
            "81240/81240 [==============================] - 10s 121us/step - loss: 0.0193 - acc: 0.9960\n",
            "Epoch 8/100\n",
            "81240/81240 [==============================] - 10s 121us/step - loss: 0.0190 - acc: 0.9960\n",
            "Epoch 9/100\n",
            "81240/81240 [==============================] - 10s 122us/step - loss: 0.0192 - acc: 0.9961\n",
            "Epoch 10/100\n",
            "81240/81240 [==============================] - 10s 123us/step - loss: 0.0190 - acc: 0.9960\n",
            "Epoch 11/100\n",
            "81240/81240 [==============================] - 10s 121us/step - loss: 0.0190 - acc: 0.9961\n",
            "Epoch 12/100\n",
            "81240/81240 [==============================] - 10s 121us/step - loss: 0.0190 - acc: 0.9960\n",
            "Epoch 13/100\n",
            "81240/81240 [==============================] - 10s 121us/step - loss: 0.0190 - acc: 0.9961\n",
            "Epoch 14/100\n",
            "81240/81240 [==============================] - 10s 123us/step - loss: 0.0189 - acc: 0.9960\n",
            "Epoch 15/100\n",
            "81240/81240 [==============================] - 10s 123us/step - loss: 0.0190 - acc: 0.9960\n",
            "Epoch 16/100\n",
            "81240/81240 [==============================] - 10s 123us/step - loss: 0.0189 - acc: 0.9961\n",
            "Epoch 17/100\n",
            "81240/81240 [==============================] - 10s 121us/step - loss: 0.0189 - acc: 0.9960\n",
            "Epoch 18/100\n",
            "81240/81240 [==============================] - 10s 124us/step - loss: 0.0189 - acc: 0.9960\n",
            "Epoch 19/100\n",
            "81240/81240 [==============================] - 11s 131us/step - loss: 0.0190 - acc: 0.9960\n",
            "Epoch 20/100\n",
            "81240/81240 [==============================] - 10s 122us/step - loss: 0.0190 - acc: 0.9959\n",
            "Epoch 21/100\n",
            "81240/81240 [==============================] - 10s 122us/step - loss: 0.0188 - acc: 0.9960\n",
            "Epoch 22/100\n",
            "81240/81240 [==============================] - 10s 121us/step - loss: 0.0189 - acc: 0.9959\n",
            "Epoch 23/100\n",
            "81240/81240 [==============================] - 10s 129us/step - loss: 0.0187 - acc: 0.9960\n",
            "Epoch 24/100\n",
            "81240/81240 [==============================] - 10s 122us/step - loss: 0.0188 - acc: 0.9960\n",
            "Epoch 25/100\n",
            "81240/81240 [==============================] - 10s 120us/step - loss: 0.0189 - acc: 0.9960\n",
            "Epoch 26/100\n",
            "81240/81240 [==============================] - 10s 122us/step - loss: 0.0187 - acc: 0.9960\n",
            "Epoch 27/100\n",
            "81240/81240 [==============================] - 10s 120us/step - loss: 0.0189 - acc: 0.9960\n",
            "Epoch 28/100\n",
            "81240/81240 [==============================] - 10s 117us/step - loss: 0.0188 - acc: 0.9960\n",
            "Epoch 29/100\n",
            "81240/81240 [==============================] - 10s 119us/step - loss: 0.0188 - acc: 0.9960\n",
            "Epoch 30/100\n",
            "81240/81240 [==============================] - 10s 118us/step - loss: 0.0188 - acc: 0.9961\n",
            "Epoch 31/100\n",
            "81240/81240 [==============================] - 10s 119us/step - loss: 0.0188 - acc: 0.9961\n",
            "Epoch 32/100\n",
            "81240/81240 [==============================] - 10s 118us/step - loss: 0.0187 - acc: 0.9960\n",
            "Epoch 33/100\n",
            "81240/81240 [==============================] - 10s 119us/step - loss: 0.0186 - acc: 0.9961\n",
            "Epoch 34/100\n",
            "81240/81240 [==============================] - 10s 119us/step - loss: 0.0186 - acc: 0.9961\n",
            "Epoch 35/100\n",
            "81240/81240 [==============================] - 10s 122us/step - loss: 0.0187 - acc: 0.9961\n",
            "Epoch 36/100\n",
            "81240/81240 [==============================] - 10s 118us/step - loss: 0.0186 - acc: 0.9961\n",
            "Epoch 37/100\n",
            "81240/81240 [==============================] - 10s 118us/step - loss: 0.0186 - acc: 0.9960\n",
            "Epoch 38/100\n",
            "81240/81240 [==============================] - 10s 118us/step - loss: 0.0185 - acc: 0.9962\n",
            "Epoch 39/100\n",
            "81240/81240 [==============================] - 10s 118us/step - loss: 0.0187 - acc: 0.9960\n",
            "Epoch 40/100\n",
            "81240/81240 [==============================] - 11s 141us/step - loss: 0.0185 - acc: 0.9962\n",
            "Epoch 41/100\n",
            "81240/81240 [==============================] - 10s 124us/step - loss: 0.0186 - acc: 0.9960\n",
            "Epoch 42/100\n",
            "81240/81240 [==============================] - 10s 125us/step - loss: 0.0186 - acc: 0.9962\n",
            "Epoch 43/100\n",
            "81240/81240 [==============================] - 10s 126us/step - loss: 0.0185 - acc: 0.9961\n",
            "Epoch 44/100\n",
            "81240/81240 [==============================] - 10s 126us/step - loss: 0.0184 - acc: 0.9961\n",
            "Epoch 45/100\n",
            "81240/81240 [==============================] - 10s 126us/step - loss: 0.0185 - acc: 0.9961\n",
            "Epoch 46/100\n",
            "81240/81240 [==============================] - 10s 125us/step - loss: 0.0186 - acc: 0.9961\n",
            "Epoch 47/100\n",
            "81240/81240 [==============================] - 10s 125us/step - loss: 0.0184 - acc: 0.9961\n",
            "Epoch 48/100\n",
            "81240/81240 [==============================] - 10s 126us/step - loss: 0.0185 - acc: 0.9961\n",
            "Epoch 49/100\n",
            "81240/81240 [==============================] - 10s 126us/step - loss: 0.0184 - acc: 0.9961\n",
            "Epoch 50/100\n",
            "81240/81240 [==============================] - 11s 133us/step - loss: 0.0183 - acc: 0.9960\n",
            "Epoch 51/100\n",
            "81240/81240 [==============================] - 10s 128us/step - loss: 0.0186 - acc: 0.9960\n",
            "Epoch 52/100\n",
            "81240/81240 [==============================] - 10s 125us/step - loss: 0.0184 - acc: 0.9961\n",
            "Epoch 53/100\n",
            "81240/81240 [==============================] - 10s 126us/step - loss: 0.0184 - acc: 0.9961\n",
            "Epoch 54/100\n",
            "81240/81240 [==============================] - 10s 127us/step - loss: 0.0184 - acc: 0.9961\n",
            "Epoch 55/100\n",
            "81240/81240 [==============================] - 10s 126us/step - loss: 0.0183 - acc: 0.9961\n",
            "Epoch 56/100\n",
            "81240/81240 [==============================] - 10s 127us/step - loss: 0.0183 - acc: 0.9961\n",
            "Epoch 57/100\n",
            "81240/81240 [==============================] - 10s 126us/step - loss: 0.0183 - acc: 0.9962\n",
            "Epoch 58/100\n",
            "81240/81240 [==============================] - 10s 126us/step - loss: 0.0183 - acc: 0.9961\n",
            "Epoch 59/100\n",
            "81240/81240 [==============================] - 10s 126us/step - loss: 0.0183 - acc: 0.9961\n",
            "Epoch 60/100\n",
            "81240/81240 [==============================] - 10s 125us/step - loss: 0.0184 - acc: 0.9961\n",
            "Epoch 61/100\n",
            "81240/81240 [==============================] - 10s 126us/step - loss: 0.0183 - acc: 0.9962\n",
            "Epoch 62/100\n",
            "81240/81240 [==============================] - 10s 126us/step - loss: 0.0183 - acc: 0.9962\n",
            "Epoch 63/100\n",
            "81240/81240 [==============================] - 10s 126us/step - loss: 0.0182 - acc: 0.9961\n",
            "Epoch 64/100\n",
            "81240/81240 [==============================] - 10s 124us/step - loss: 0.0182 - acc: 0.9963\n",
            "Epoch 65/100\n",
            "81240/81240 [==============================] - 11s 132us/step - loss: 0.0183 - acc: 0.9963\n",
            "Epoch 66/100\n",
            "81240/81240 [==============================] - 10s 125us/step - loss: 0.0182 - acc: 0.9963\n",
            "Epoch 67/100\n",
            "81240/81240 [==============================] - 10s 127us/step - loss: 0.0182 - acc: 0.9962\n",
            "Epoch 68/100\n",
            "81240/81240 [==============================] - 10s 127us/step - loss: 0.0182 - acc: 0.9961\n",
            "Epoch 69/100\n",
            "81240/81240 [==============================] - 10s 126us/step - loss: 0.0182 - acc: 0.9961\n",
            "Epoch 70/100\n",
            "81240/81240 [==============================] - 10s 126us/step - loss: 0.0183 - acc: 0.9962\n",
            "Epoch 71/100\n",
            "81240/81240 [==============================] - 10s 127us/step - loss: 0.0182 - acc: 0.9963\n",
            "Epoch 72/100\n",
            "81240/81240 [==============================] - 10s 124us/step - loss: 0.0182 - acc: 0.9963\n",
            "Epoch 73/100\n",
            "81240/81240 [==============================] - 10s 125us/step - loss: 0.0183 - acc: 0.9962\n",
            "Epoch 74/100\n",
            "81240/81240 [==============================] - 10s 125us/step - loss: 0.0182 - acc: 0.9962\n",
            "Epoch 75/100\n",
            "81240/81240 [==============================] - 10s 125us/step - loss: 0.0182 - acc: 0.9961\n",
            "Epoch 76/100\n",
            "81240/81240 [==============================] - 10s 124us/step - loss: 0.0182 - acc: 0.9963\n",
            "Epoch 77/100\n",
            "81240/81240 [==============================] - 10s 126us/step - loss: 0.0181 - acc: 0.9962\n",
            "Epoch 78/100\n",
            "81240/81240 [==============================] - 10s 124us/step - loss: 0.0181 - acc: 0.9963\n",
            "Epoch 79/100\n",
            "81240/81240 [==============================] - 10s 125us/step - loss: 0.0181 - acc: 0.9962\n",
            "Epoch 80/100\n",
            "81240/81240 [==============================] - 11s 130us/step - loss: 0.0181 - acc: 0.9962\n",
            "Epoch 81/100\n",
            "81240/81240 [==============================] - 11s 130us/step - loss: 0.0181 - acc: 0.9963\n",
            "Epoch 82/100\n",
            "81240/81240 [==============================] - 10s 124us/step - loss: 0.0180 - acc: 0.9962\n",
            "Epoch 83/100\n",
            "81240/81240 [==============================] - 10s 125us/step - loss: 0.0181 - acc: 0.9962\n",
            "Epoch 84/100\n",
            "81240/81240 [==============================] - 10s 120us/step - loss: 0.0181 - acc: 0.9962\n",
            "Epoch 85/100\n",
            "81240/81240 [==============================] - 10s 119us/step - loss: 0.0180 - acc: 0.9963\n",
            "Epoch 86/100\n",
            "81240/81240 [==============================] - 10s 119us/step - loss: 0.0180 - acc: 0.9962\n",
            "Epoch 87/100\n",
            "81240/81240 [==============================] - 10s 118us/step - loss: 0.0182 - acc: 0.9963\n",
            "Epoch 88/100\n",
            "81240/81240 [==============================] - 10s 118us/step - loss: 0.0181 - acc: 0.9962\n",
            "Epoch 89/100\n",
            "81240/81240 [==============================] - 10s 118us/step - loss: 0.0181 - acc: 0.9962\n",
            "Epoch 90/100\n",
            "81240/81240 [==============================] - 10s 119us/step - loss: 0.0181 - acc: 0.9962\n",
            "Epoch 91/100\n",
            "81240/81240 [==============================] - 10s 118us/step - loss: 0.0181 - acc: 0.9962\n",
            "Epoch 92/100\n",
            "81240/81240 [==============================] - 12s 147us/step - loss: 0.0181 - acc: 0.9962\n",
            "Epoch 93/100\n",
            "81240/81240 [==============================] - 10s 127us/step - loss: 0.0180 - acc: 0.9962\n",
            "Epoch 94/100\n",
            "81240/81240 [==============================] - 10s 122us/step - loss: 0.0181 - acc: 0.9963\n",
            "Epoch 95/100\n",
            "81240/81240 [==============================] - 11s 132us/step - loss: 0.0180 - acc: 0.9962\n",
            "Epoch 96/100\n",
            "81240/81240 [==============================] - 10s 126us/step - loss: 0.0181 - acc: 0.9963\n",
            "Epoch 97/100\n",
            "81240/81240 [==============================] - 10s 125us/step - loss: 0.0182 - acc: 0.9962\n",
            "Epoch 98/100\n",
            "81240/81240 [==============================] - 10s 125us/step - loss: 0.0181 - acc: 0.9962\n",
            "Epoch 99/100\n",
            "81240/81240 [==============================] - 10s 124us/step - loss: 0.0181 - acc: 0.9963\n",
            "Epoch 100/100\n",
            "81240/81240 [==============================] - 10s 124us/step - loss: 0.0180 - acc: 0.9961\n"
          ],
          "name": "stdout"
        },
        {
          "output_type": "execute_result",
          "data": {
            "text/plain": [
              "<keras.callbacks.History at 0x7fa2ae700240>"
            ]
          },
          "metadata": {
            "tags": []
          },
          "execution_count": 42
        }
      ]
    },
    {
      "cell_type": "code",
      "metadata": {
        "id": "vmbg1_UQ4Dy9",
        "colab_type": "code",
        "colab": {
          "base_uri": "https://localhost:8080/",
          "height": 52
        },
        "outputId": "c99f8195-d4be-4737-ad2e-929667e34d51"
      },
      "source": [
        "eval_model=classifier.evaluate(X_train, y_train)\n",
        "eval_model"
      ],
      "execution_count": 43,
      "outputs": [
        {
          "output_type": "stream",
          "text": [
            "81240/81240 [==============================] - 1s 18us/step\n"
          ],
          "name": "stdout"
        },
        {
          "output_type": "execute_result",
          "data": {
            "text/plain": [
              "[0.017451083973203274, 0.996356474643033]"
            ]
          },
          "metadata": {
            "tags": []
          },
          "execution_count": 43
        }
      ]
    },
    {
      "cell_type": "code",
      "metadata": {
        "id": "_bwNF1lS4g2t",
        "colab_type": "code",
        "colab": {}
      },
      "source": [
        "y_pred=classifier.predict(X_test)"
      ],
      "execution_count": 0,
      "outputs": []
    },
    {
      "cell_type": "code",
      "metadata": {
        "id": "QQjEF8X14iBd",
        "colab_type": "code",
        "colab": {
          "base_uri": "https://localhost:8080/",
          "height": 52
        },
        "outputId": "1bf19ae6-66db-4459-e0e9-cdb7243d819b"
      },
      "source": [
        "from sklearn.metrics import confusion_matrix\n",
        "cm = confusion_matrix(y_test, y_pred.round())\n",
        "print(cm)"
      ],
      "execution_count": 47,
      "outputs": [
        {
          "output_type": "stream",
          "text": [
            "[[34605    26]\n",
            " [  119    68]]\n"
          ],
          "name": "stdout"
        }
      ]
    },
    {
      "cell_type": "code",
      "metadata": {
        "id": "tWaP4yLp8M86",
        "colab_type": "code",
        "colab": {
          "base_uri": "https://localhost:8080/",
          "height": 52
        },
        "outputId": "0666269c-34a4-4cda-a04f-7bce13172fb4"
      },
      "source": [
        "from sklearn.metrics import accuracy_score\n",
        "\n",
        "total_len = len(y_test)\n",
        "acc_len = accuracy_score(y_test, y_pred.round(), normalize=False)\n",
        "\n",
        "print(\"total {} numbder of observation and accuracy is = {} \\nand the differencr is {}\".format(total_len,acc_len,(total_len-acc_len)))"
      ],
      "execution_count": 56,
      "outputs": [
        {
          "output_type": "stream",
          "text": [
            "total 34818 numbder of observation and accuracy is = 34673 \n",
            "and the differencr is 145\n"
          ],
          "name": "stdout"
        }
      ]
    },
    {
      "cell_type": "code",
      "metadata": {
        "id": "bWzdBoEz9Wha",
        "colab_type": "code",
        "colab": {}
      },
      "source": [
        "test_df = pd.read_csv('/content/drive/My Drive/HACKATHONS/AV/ML2019/test.csv')\n",
        "test_X = test_df.iloc[:,[3,4,5,8,9,10,11,13,14,15,16,17,18,19,20,21,22,23,24,25,26,27]]\n",
        "\n",
        "from sklearn.preprocessing import StandardScaler\n",
        "sc = StandardScaler()\n",
        "test_X = sc.fit_transform(test_X)\n",
        "y_test_pred=classifier.predict(test_X)"
      ],
      "execution_count": 0,
      "outputs": []
    },
    {
      "cell_type": "code",
      "metadata": {
        "id": "HxF4Sjvl_Jqx",
        "colab_type": "code",
        "colab": {}
      },
      "source": [
        "# df['predicted'] = y_test_pred.tolist()\n",
        "lst = np.around(y_test_pred).astype(int).tolist()"
      ],
      "execution_count": 0,
      "outputs": []
    },
    {
      "cell_type": "code",
      "metadata": {
        "id": "JQugmwF6EMQf",
        "colab_type": "code",
        "colab": {}
      },
      "source": [
        "final = []\n",
        "for l in lst:\n",
        "  final.append(l[0])"
      ],
      "execution_count": 0,
      "outputs": []
    },
    {
      "cell_type": "code",
      "metadata": {
        "id": "nZtWxUw5A_Es",
        "colab_type": "code",
        "colab": {
          "base_uri": "https://localhost:8080/",
          "height": 239
        },
        "outputId": "ec8b8b10-b744-4920-be70-02841ff86160"
      },
      "source": [
        "test_df['predicted'] = final\n",
        "test_df.head()"
      ],
      "execution_count": 112,
      "outputs": [
        {
          "output_type": "execute_result",
          "data": {
            "text/html": [
              "<div>\n",
              "<style scoped>\n",
              "    .dataframe tbody tr th:only-of-type {\n",
              "        vertical-align: middle;\n",
              "    }\n",
              "\n",
              "    .dataframe tbody tr th {\n",
              "        vertical-align: top;\n",
              "    }\n",
              "\n",
              "    .dataframe thead th {\n",
              "        text-align: right;\n",
              "    }\n",
              "</style>\n",
              "<table border=\"1\" class=\"dataframe\">\n",
              "  <thead>\n",
              "    <tr style=\"text-align: right;\">\n",
              "      <th></th>\n",
              "      <th>loan_id</th>\n",
              "      <th>source</th>\n",
              "      <th>financial_institution</th>\n",
              "      <th>interest_rate</th>\n",
              "      <th>unpaid_principal_bal</th>\n",
              "      <th>loan_term</th>\n",
              "      <th>origination_date</th>\n",
              "      <th>first_payment_date</th>\n",
              "      <th>loan_to_value</th>\n",
              "      <th>number_of_borrowers</th>\n",
              "      <th>debt_to_income_ratio</th>\n",
              "      <th>borrower_credit_score</th>\n",
              "      <th>loan_purpose</th>\n",
              "      <th>insurance_percent</th>\n",
              "      <th>co-borrower_credit_score</th>\n",
              "      <th>insurance_type</th>\n",
              "      <th>m1</th>\n",
              "      <th>m2</th>\n",
              "      <th>m3</th>\n",
              "      <th>m4</th>\n",
              "      <th>m5</th>\n",
              "      <th>m6</th>\n",
              "      <th>m7</th>\n",
              "      <th>m8</th>\n",
              "      <th>m9</th>\n",
              "      <th>m10</th>\n",
              "      <th>m11</th>\n",
              "      <th>m12</th>\n",
              "      <th>predicted</th>\n",
              "    </tr>\n",
              "  </thead>\n",
              "  <tbody>\n",
              "    <tr>\n",
              "      <th>0</th>\n",
              "      <td>1</td>\n",
              "      <td>Y</td>\n",
              "      <td>Browning-Hart</td>\n",
              "      <td>3.875</td>\n",
              "      <td>417000</td>\n",
              "      <td>360</td>\n",
              "      <td>01/02/12</td>\n",
              "      <td>Apr-12</td>\n",
              "      <td>75</td>\n",
              "      <td>1</td>\n",
              "      <td>20</td>\n",
              "      <td>790</td>\n",
              "      <td>A23</td>\n",
              "      <td>0</td>\n",
              "      <td>0</td>\n",
              "      <td>0</td>\n",
              "      <td>0</td>\n",
              "      <td>0</td>\n",
              "      <td>0</td>\n",
              "      <td>0</td>\n",
              "      <td>0</td>\n",
              "      <td>0</td>\n",
              "      <td>0</td>\n",
              "      <td>0</td>\n",
              "      <td>0</td>\n",
              "      <td>0</td>\n",
              "      <td>0</td>\n",
              "      <td>0</td>\n",
              "      <td>0</td>\n",
              "    </tr>\n",
              "    <tr>\n",
              "      <th>1</th>\n",
              "      <td>2</td>\n",
              "      <td>X</td>\n",
              "      <td>OTHER</td>\n",
              "      <td>4.500</td>\n",
              "      <td>113000</td>\n",
              "      <td>360</td>\n",
              "      <td>01/02/12</td>\n",
              "      <td>Apr-12</td>\n",
              "      <td>80</td>\n",
              "      <td>2</td>\n",
              "      <td>33</td>\n",
              "      <td>793</td>\n",
              "      <td>C86</td>\n",
              "      <td>0</td>\n",
              "      <td>784</td>\n",
              "      <td>0</td>\n",
              "      <td>0</td>\n",
              "      <td>0</td>\n",
              "      <td>0</td>\n",
              "      <td>0</td>\n",
              "      <td>0</td>\n",
              "      <td>0</td>\n",
              "      <td>0</td>\n",
              "      <td>0</td>\n",
              "      <td>0</td>\n",
              "      <td>0</td>\n",
              "      <td>0</td>\n",
              "      <td>0</td>\n",
              "      <td>0</td>\n",
              "    </tr>\n",
              "    <tr>\n",
              "      <th>2</th>\n",
              "      <td>3</td>\n",
              "      <td>Y</td>\n",
              "      <td>OTHER</td>\n",
              "      <td>4.500</td>\n",
              "      <td>72000</td>\n",
              "      <td>360</td>\n",
              "      <td>01/01/12</td>\n",
              "      <td>Mar-12</td>\n",
              "      <td>75</td>\n",
              "      <td>1</td>\n",
              "      <td>34</td>\n",
              "      <td>710</td>\n",
              "      <td>C86</td>\n",
              "      <td>0</td>\n",
              "      <td>0</td>\n",
              "      <td>0</td>\n",
              "      <td>0</td>\n",
              "      <td>0</td>\n",
              "      <td>0</td>\n",
              "      <td>0</td>\n",
              "      <td>0</td>\n",
              "      <td>0</td>\n",
              "      <td>0</td>\n",
              "      <td>0</td>\n",
              "      <td>0</td>\n",
              "      <td>0</td>\n",
              "      <td>0</td>\n",
              "      <td>0</td>\n",
              "      <td>0</td>\n",
              "    </tr>\n",
              "    <tr>\n",
              "      <th>3</th>\n",
              "      <td>4</td>\n",
              "      <td>X</td>\n",
              "      <td>Miller, Mcclure and Allen</td>\n",
              "      <td>4.125</td>\n",
              "      <td>123000</td>\n",
              "      <td>180</td>\n",
              "      <td>01/02/12</td>\n",
              "      <td>Apr-12</td>\n",
              "      <td>41</td>\n",
              "      <td>2</td>\n",
              "      <td>24</td>\n",
              "      <td>798</td>\n",
              "      <td>A23</td>\n",
              "      <td>0</td>\n",
              "      <td>813</td>\n",
              "      <td>0</td>\n",
              "      <td>0</td>\n",
              "      <td>0</td>\n",
              "      <td>0</td>\n",
              "      <td>0</td>\n",
              "      <td>0</td>\n",
              "      <td>0</td>\n",
              "      <td>0</td>\n",
              "      <td>0</td>\n",
              "      <td>0</td>\n",
              "      <td>0</td>\n",
              "      <td>0</td>\n",
              "      <td>0</td>\n",
              "      <td>0</td>\n",
              "    </tr>\n",
              "    <tr>\n",
              "      <th>4</th>\n",
              "      <td>5</td>\n",
              "      <td>X</td>\n",
              "      <td>Browning-Hart</td>\n",
              "      <td>3.250</td>\n",
              "      <td>166000</td>\n",
              "      <td>180</td>\n",
              "      <td>01/02/12</td>\n",
              "      <td>Apr-12</td>\n",
              "      <td>53</td>\n",
              "      <td>2</td>\n",
              "      <td>12</td>\n",
              "      <td>767</td>\n",
              "      <td>A23</td>\n",
              "      <td>0</td>\n",
              "      <td>768</td>\n",
              "      <td>0</td>\n",
              "      <td>0</td>\n",
              "      <td>0</td>\n",
              "      <td>0</td>\n",
              "      <td>0</td>\n",
              "      <td>0</td>\n",
              "      <td>0</td>\n",
              "      <td>0</td>\n",
              "      <td>0</td>\n",
              "      <td>0</td>\n",
              "      <td>0</td>\n",
              "      <td>0</td>\n",
              "      <td>0</td>\n",
              "      <td>0</td>\n",
              "    </tr>\n",
              "  </tbody>\n",
              "</table>\n",
              "</div>"
            ],
            "text/plain": [
              "   loan_id source      financial_institution  ...  m11  m12  predicted\n",
              "0        1      Y              Browning-Hart  ...    0    0          0\n",
              "1        2      X                      OTHER  ...    0    0          0\n",
              "2        3      Y                      OTHER  ...    0    0          0\n",
              "3        4      X  Miller, Mcclure and Allen  ...    0    0          0\n",
              "4        5      X              Browning-Hart  ...    0    0          0\n",
              "\n",
              "[5 rows x 29 columns]"
            ]
          },
          "metadata": {
            "tags": []
          },
          "execution_count": 112
        }
      ]
    },
    {
      "cell_type": "code",
      "metadata": {
        "id": "o4WkEi83DICP",
        "colab_type": "code",
        "colab": {}
      },
      "source": [
        "test_df.to_csv('/content/drive/My Drive/HACKATHONS/AV/ML2019/predicted.csv', index=False) "
      ],
      "execution_count": 0,
      "outputs": []
    },
    {
      "cell_type": "code",
      "metadata": {
        "id": "T3jRfoeMFvB2",
        "colab_type": "code",
        "colab": {}
      },
      "source": [
        ""
      ],
      "execution_count": 0,
      "outputs": []
    }
  ]
}